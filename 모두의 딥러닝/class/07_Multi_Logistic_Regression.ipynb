{
 "cells": [
  {
   "cell_type": "code",
   "execution_count": 3,
   "metadata": {},
   "outputs": [
    {
     "name": "stdout",
     "output_type": "stream",
     "text": [
      "step=300, a1=0.8034, a2=-0.5159, b=-2.5476, loss=0.2597\n",
      "step=600, a1=0.8008, a2=-0.2465, b=-3.9816, loss=0.1876\n",
      "step=900, a1=0.7141, a2=0.0730, b=-5.0266, loss=0.1473\n",
      "step=1200, a1=0.6141, a2=0.3721, b=-5.8563, loss=0.1209\n",
      "step=1500, a1=0.5183, a2=0.6395, b=-6.5462, loss=0.1023\n",
      "step=1800, a1=0.4314, a2=0.8758, b=-7.1370, loss=0.0886\n",
      "step=2100, a1=0.3539, a2=1.0849, b=-7.6540, loss=0.0780\n",
      "step=2400, a1=0.2851, a2=1.2708, b=-8.1136, loss=0.0696\n",
      "step=2700, a1=0.2241, a2=1.4371, b=-8.5275, loss=0.0628\n",
      "step=3000, a1=0.1697, a2=1.5869, b=-8.9039, loss=0.0573\n",
      "공부 시간: 7, 개인 과외 수: 6\n",
      "합격 가능성:  85.89 %\n"
     ]
    }
   ],
   "source": [
    "import tensorflow as tf\n",
    "import numpy as np\n",
    "\n",
    "seed = 0\n",
    "np.random.seed(seed)\n",
    "tf.set_random_seed(seed)\n",
    "\n",
    "x_data = np.array([[2, 3], [4, 3], [6, 4], [8, 6], [10, 7], [12, 8], [14, 9]])\n",
    "y_data = np.array([0, 0, 0, 1, 1, 1, 1]).reshape(7, 1)\n",
    "\n",
    "X = tf.placeholder(tf.float64, shape=[None, 2])\n",
    "Y = tf.placeholder(tf.float64, shape=[None, 1])\n",
    "\n",
    "a = tf.Variable(tf.random_uniform([2, 1], dtype=tf.float64))\n",
    "b = tf.Variable(tf.random_uniform([1], dtype=tf.float64))\n",
    "\n",
    "y = tf.sigmoid(tf.matmul(X, a) + b)\n",
    "\n",
    "loss = -tf.reduce_mean(Y * tf.log(y) + (1 - Y) * tf.log(1 - y))\n",
    "\n",
    "learning_rate=0.1\n",
    "\n",
    "gradient_decent = tf.train.GradientDescentOptimizer(learning_rate).minimize(loss)\n",
    "\n",
    "predicted = tf.cast(y > 0.5, dtype=tf.float64)\n",
    "accuracy = tf.reduce_mean(tf.cast(tf.equal(predicted, Y), dtype=tf.float64))\n",
    "\n",
    "with tf.Session() as sess:\n",
    "    sess.run(tf.global_variables_initializer())\n",
    "    \n",
    "    for i in range(3001):\n",
    "        a_, b_, loss_, _ = sess.run([a, b, loss, gradient_decent], feed_dict={X: x_data, Y: y_data})\n",
    "        if (i + 1) % 300 == 0:\n",
    "            print(\"step=%d, a1=%.4f, a2=%.4f, b=%.4f, loss=%.4f\" % (i + 1, a_[0], a_[1], b_, loss_))\n",
    "            \n",
    "    new_x = np.array([7, 6.]).reshape(1, 2)\n",
    "    new_y = sess.run(y, feed_dict={X: new_x})\n",
    "    \n",
    "    print(\"공부 시간: %d, 개인 과외 수: %d\" % (new_x[:, 0], new_x[:, 1]))\n",
    "    print(\"합격 가능성: %6.2f %%\" % (new_y * 100))"
   ]
  },
  {
   "cell_type": "code",
   "execution_count": null,
   "metadata": {},
   "outputs": [],
   "source": []
  }
 ],
 "metadata": {
  "kernelspec": {
   "display_name": "Python 3",
   "language": "python",
   "name": "python3"
  },
  "language_info": {
   "codemirror_mode": {
    "name": "ipython",
    "version": 3
   },
   "file_extension": ".py",
   "mimetype": "text/x-python",
   "name": "python",
   "nbconvert_exporter": "python",
   "pygments_lexer": "ipython3",
   "version": "3.7.1"
  }
 },
 "nbformat": 4,
 "nbformat_minor": 2
}
