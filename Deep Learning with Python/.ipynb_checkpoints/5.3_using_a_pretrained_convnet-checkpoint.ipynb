{
 "cells": [
  {
   "cell_type": "markdown",
   "metadata": {
    "colab_type": "text",
    "id": "view-in-github"
   },
   "source": [
    "<a href=\"https://colab.research.google.com/github/siontama/Data-Science/blob/master/Deep%20Learning%20with%20Python/5.3_using_a_pretrained_convnet.ipynb\" target=\"_parent\"><img src=\"https://colab.research.google.com/assets/colab-badge.svg\" alt=\"Open In Colab\"/></a>"
   ]
  },
  {
   "cell_type": "code",
   "execution_count": 1,
   "metadata": {
    "colab": {
     "base_uri": "https://localhost:8080/",
     "height": 105
    },
    "colab_type": "code",
    "id": "XZvCg2Nt_n4b",
    "outputId": "33b5e547-a92b-4fcf-820c-bacda3ed8e9e"
   },
   "outputs": [
    {
     "name": "stderr",
     "output_type": "stream",
     "text": [
      "Using TensorFlow backend.\n"
     ]
    },
    {
     "name": "stdout",
     "output_type": "stream",
     "text": [
      "WARNING:tensorflow:From /usr/local/lib/python3.6/dist-packages/tensorflow/python/framework/op_def_library.py:263: colocate_with (from tensorflow.python.framework.ops) is deprecated and will be removed in a future version.\n",
      "Instructions for updating:\n",
      "Colocations handled automatically by placer.\n"
     ]
    }
   ],
   "source": [
    "from keras.applications import VGG16\n",
    "\n",
    "conv_base = VGG16(weights='imagenet',\n",
    "                  include_top=False,\n",
    "                  input_shape=(150, 150, 3))"
   ]
  },
  {
   "cell_type": "code",
   "execution_count": 2,
   "metadata": {
    "colab": {
     "base_uri": "https://localhost:8080/",
     "height": 782
    },
    "colab_type": "code",
    "id": "nZS85ghW_n4h",
    "outputId": "cf9187fc-a8ea-4662-d4ea-a5b92c28a5ef"
   },
   "outputs": [
    {
     "name": "stdout",
     "output_type": "stream",
     "text": [
      "_________________________________________________________________\n",
      "Layer (type)                 Output Shape              Param #   \n",
      "=================================================================\n",
      "input_1 (InputLayer)         (None, 150, 150, 3)       0         \n",
      "_________________________________________________________________\n",
      "block1_conv1 (Conv2D)        (None, 150, 150, 64)      1792      \n",
      "_________________________________________________________________\n",
      "block1_conv2 (Conv2D)        (None, 150, 150, 64)      36928     \n",
      "_________________________________________________________________\n",
      "block1_pool (MaxPooling2D)   (None, 75, 75, 64)        0         \n",
      "_________________________________________________________________\n",
      "block2_conv1 (Conv2D)        (None, 75, 75, 128)       73856     \n",
      "_________________________________________________________________\n",
      "block2_conv2 (Conv2D)        (None, 75, 75, 128)       147584    \n",
      "_________________________________________________________________\n",
      "block2_pool (MaxPooling2D)   (None, 37, 37, 128)       0         \n",
      "_________________________________________________________________\n",
      "block3_conv1 (Conv2D)        (None, 37, 37, 256)       295168    \n",
      "_________________________________________________________________\n",
      "block3_conv2 (Conv2D)        (None, 37, 37, 256)       590080    \n",
      "_________________________________________________________________\n",
      "block3_conv3 (Conv2D)        (None, 37, 37, 256)       590080    \n",
      "_________________________________________________________________\n",
      "block3_pool (MaxPooling2D)   (None, 18, 18, 256)       0         \n",
      "_________________________________________________________________\n",
      "block4_conv1 (Conv2D)        (None, 18, 18, 512)       1180160   \n",
      "_________________________________________________________________\n",
      "block4_conv2 (Conv2D)        (None, 18, 18, 512)       2359808   \n",
      "_________________________________________________________________\n",
      "block4_conv3 (Conv2D)        (None, 18, 18, 512)       2359808   \n",
      "_________________________________________________________________\n",
      "block4_pool (MaxPooling2D)   (None, 9, 9, 512)         0         \n",
      "_________________________________________________________________\n",
      "block5_conv1 (Conv2D)        (None, 9, 9, 512)         2359808   \n",
      "_________________________________________________________________\n",
      "block5_conv2 (Conv2D)        (None, 9, 9, 512)         2359808   \n",
      "_________________________________________________________________\n",
      "block5_conv3 (Conv2D)        (None, 9, 9, 512)         2359808   \n",
      "_________________________________________________________________\n",
      "block5_pool (MaxPooling2D)   (None, 4, 4, 512)         0         \n",
      "=================================================================\n",
      "Total params: 14,714,688\n",
      "Trainable params: 14,714,688\n",
      "Non-trainable params: 0\n",
      "_________________________________________________________________\n"
     ]
    }
   ],
   "source": [
    "conv_base.summary()"
   ]
  },
  {
   "cell_type": "code",
   "execution_count": 3,
   "metadata": {
    "colab": {
     "base_uri": "https://localhost:8080/",
     "height": 54
    },
    "colab_type": "code",
    "id": "pONbXZqVPMxl",
    "outputId": "11a355f9-f7f6-441c-d0c9-52474b25ff19"
   },
   "outputs": [
    {
     "name": "stdout",
     "output_type": "stream",
     "text": [
      "Drive already mounted at /content/gdrive; to attempt to forcibly remount, call drive.mount(\"/content/gdrive\", force_remount=True).\n"
     ]
    }
   ],
   "source": [
    "from google.colab import drive\n",
    "\n",
    "drive.mount('/content/gdrive')"
   ]
  },
  {
   "cell_type": "code",
   "execution_count": 4,
   "metadata": {
    "colab": {
     "base_uri": "https://localhost:8080/",
     "height": 68
    },
    "colab_type": "code",
    "id": "Btj7K46Z_n4k",
    "outputId": "abecce91-a747-413c-a2f0-26047499658d",
    "scrolled": false
   },
   "outputs": [
    {
     "name": "stdout",
     "output_type": "stream",
     "text": [
      "Found 2000 images belonging to 2 classes.\n",
      "Found 1020 images belonging to 2 classes.\n",
      "Found 1000 images belonging to 2 classes.\n"
     ]
    }
   ],
   "source": [
    "from google.colab import drive\n",
    "\n",
    "import os\n",
    "import numpy as np\n",
    "from keras.preprocessing.image import ImageDataGenerator\n",
    "\n",
    "base_dir = '/content/gdrive/My Drive/Colab Notebooks/datasets/cats_and_dogs_small'\n",
    "\n",
    "train_dir = os.path.join(base_dir, 'train')\n",
    "validation_dir = os.path.join(base_dir, 'validation')\n",
    "test_dir = os.path.join(base_dir, 'test')\n",
    "\n",
    "datagen = ImageDataGenerator(rescale=1./255)\n",
    "batch_size = 20\n",
    "\n",
    "def extract_features(directory, sample_count):\n",
    "    features = np.zeros(shape=(sample_count, 4, 4, 512))\n",
    "    labels = np.zeros(shape=(sample_count))\n",
    "    generator = datagen.flow_from_directory(\n",
    "        directory,\n",
    "        target_size=(150, 150),\n",
    "        batch_size=batch_size,\n",
    "        class_mode='binary')\n",
    "    i = 0\n",
    "    for inputs_batch, labels_batch in generator:\n",
    "        features_batch = conv_base.predict(inputs_batch)\n",
    "        features[i * batch_size : (i + 1) * batch_size] = features_batch\n",
    "        labels[i * batch_size : (i + 1) * batch_size] = labels_batch\n",
    "        i += 1\n",
    "        if i * batch_size >= sample_count:\n",
    "            # 제너레이터는 루프 안에서 무한하게 데이터를 만들어내므로 모든 이미지를 한 번씩 처리하고 나면 중지합니다\n",
    "            break\n",
    "    return features, labels\n",
    "\n",
    "train_features, train_labels = extract_features(train_dir, 2000)\n",
    "test_features, test_labels = extract_features(test_dir, 1000)\n",
    "validation_features, validation_labels = extract_features(validation_dir, 1000)"
   ]
  },
  {
   "cell_type": "code",
   "execution_count": 0,
   "metadata": {
    "colab": {},
    "colab_type": "code",
    "id": "33ebUq1b_n4o"
   },
   "outputs": [],
   "source": [
    "train_features = np.reshape(train_features, (2000, 4 * 4 * 512))\n",
    "validation_features = np.reshape(validation_features, (1000, 4 * 4 * 512))\n",
    "test_features = np.reshape(test_features, (1000, 4 * 4 * 512))"
   ]
  },
  {
   "cell_type": "code",
   "execution_count": 6,
   "metadata": {
    "colab": {
     "base_uri": "https://localhost:8080/",
     "height": 1176
    },
    "colab_type": "code",
    "id": "Ny_3fcuG_n4q",
    "outputId": "0ea5f4dc-85b2-4ed2-9c0b-9331bc218b13",
    "scrolled": false
   },
   "outputs": [
    {
     "name": "stdout",
     "output_type": "stream",
     "text": [
      "WARNING:tensorflow:From /usr/local/lib/python3.6/dist-packages/keras/backend/tensorflow_backend.py:3445: calling dropout (from tensorflow.python.ops.nn_ops) with keep_prob is deprecated and will be removed in a future version.\n",
      "Instructions for updating:\n",
      "Please use `rate` instead of `keep_prob`. Rate should be set to `rate = 1 - keep_prob`.\n",
      "WARNING:tensorflow:From /usr/local/lib/python3.6/dist-packages/tensorflow/python/ops/math_ops.py:3066: to_int32 (from tensorflow.python.ops.math_ops) is deprecated and will be removed in a future version.\n",
      "Instructions for updating:\n",
      "Use tf.cast instead.\n",
      "Train on 2000 samples, validate on 1000 samples\n",
      "Epoch 1/30\n",
      "2000/2000 [==============================] - 1s 561us/step - loss: 0.5975 - acc: 0.6735 - val_loss: 0.4460 - val_acc: 0.8390\n",
      "Epoch 2/30\n",
      "2000/2000 [==============================] - 1s 360us/step - loss: 0.4301 - acc: 0.8140 - val_loss: 0.3666 - val_acc: 0.8610\n",
      "Epoch 3/30\n",
      "2000/2000 [==============================] - 1s 360us/step - loss: 0.3581 - acc: 0.8485 - val_loss: 0.3241 - val_acc: 0.8810\n",
      "Epoch 4/30\n",
      "2000/2000 [==============================] - 1s 362us/step - loss: 0.3148 - acc: 0.8745 - val_loss: 0.2993 - val_acc: 0.8910\n",
      "Epoch 5/30\n",
      "2000/2000 [==============================] - 1s 365us/step - loss: 0.2852 - acc: 0.8905 - val_loss: 0.2837 - val_acc: 0.8850\n",
      "Epoch 6/30\n",
      "2000/2000 [==============================] - 1s 355us/step - loss: 0.2675 - acc: 0.8990 - val_loss: 0.2760 - val_acc: 0.8900\n",
      "Epoch 7/30\n",
      "2000/2000 [==============================] - 1s 376us/step - loss: 0.2475 - acc: 0.8990 - val_loss: 0.2673 - val_acc: 0.8940\n",
      "Epoch 8/30\n",
      "2000/2000 [==============================] - 1s 381us/step - loss: 0.2376 - acc: 0.9050 - val_loss: 0.2698 - val_acc: 0.8890\n",
      "Epoch 9/30\n",
      "2000/2000 [==============================] - 1s 382us/step - loss: 0.2200 - acc: 0.9210 - val_loss: 0.2615 - val_acc: 0.8940\n",
      "Epoch 10/30\n",
      "2000/2000 [==============================] - 1s 382us/step - loss: 0.2075 - acc: 0.9225 - val_loss: 0.2494 - val_acc: 0.8970\n",
      "Epoch 11/30\n",
      "2000/2000 [==============================] - 1s 393us/step - loss: 0.1950 - acc: 0.9305 - val_loss: 0.2448 - val_acc: 0.9000\n",
      "Epoch 12/30\n",
      "2000/2000 [==============================] - 1s 389us/step - loss: 0.1827 - acc: 0.9340 - val_loss: 0.2536 - val_acc: 0.8940\n",
      "Epoch 13/30\n",
      "2000/2000 [==============================] - 1s 391us/step - loss: 0.1850 - acc: 0.9305 - val_loss: 0.2396 - val_acc: 0.9010\n",
      "Epoch 14/30\n",
      "2000/2000 [==============================] - 1s 385us/step - loss: 0.1676 - acc: 0.9400 - val_loss: 0.2481 - val_acc: 0.8990\n",
      "Epoch 15/30\n",
      "2000/2000 [==============================] - 1s 386us/step - loss: 0.1624 - acc: 0.9430 - val_loss: 0.2363 - val_acc: 0.9000\n",
      "Epoch 16/30\n",
      "2000/2000 [==============================] - 1s 399us/step - loss: 0.1572 - acc: 0.9420 - val_loss: 0.2366 - val_acc: 0.9000\n",
      "Epoch 17/30\n",
      "2000/2000 [==============================] - 1s 406us/step - loss: 0.1511 - acc: 0.9450 - val_loss: 0.2345 - val_acc: 0.9010\n",
      "Epoch 18/30\n",
      "2000/2000 [==============================] - 1s 399us/step - loss: 0.1467 - acc: 0.9515 - val_loss: 0.2337 - val_acc: 0.9000\n",
      "Epoch 19/30\n",
      "2000/2000 [==============================] - 1s 410us/step - loss: 0.1359 - acc: 0.9555 - val_loss: 0.2334 - val_acc: 0.9040\n",
      "Epoch 20/30\n",
      "2000/2000 [==============================] - 1s 409us/step - loss: 0.1277 - acc: 0.9565 - val_loss: 0.2342 - val_acc: 0.9030\n",
      "Epoch 21/30\n",
      "2000/2000 [==============================] - 1s 406us/step - loss: 0.1326 - acc: 0.9550 - val_loss: 0.2338 - val_acc: 0.9030\n",
      "Epoch 22/30\n",
      "2000/2000 [==============================] - 1s 407us/step - loss: 0.1200 - acc: 0.9595 - val_loss: 0.2488 - val_acc: 0.9010\n",
      "Epoch 23/30\n",
      "2000/2000 [==============================] - 1s 390us/step - loss: 0.1185 - acc: 0.9615 - val_loss: 0.2415 - val_acc: 0.9040\n",
      "Epoch 24/30\n",
      "2000/2000 [==============================] - 1s 385us/step - loss: 0.1131 - acc: 0.9655 - val_loss: 0.2433 - val_acc: 0.9020\n",
      "Epoch 25/30\n",
      "2000/2000 [==============================] - 1s 387us/step - loss: 0.1111 - acc: 0.9630 - val_loss: 0.2369 - val_acc: 0.9050\n",
      "Epoch 26/30\n",
      "2000/2000 [==============================] - 1s 388us/step - loss: 0.1067 - acc: 0.9650 - val_loss: 0.2343 - val_acc: 0.9050\n",
      "Epoch 27/30\n",
      "2000/2000 [==============================] - 1s 377us/step - loss: 0.1029 - acc: 0.9655 - val_loss: 0.2377 - val_acc: 0.9030\n",
      "Epoch 28/30\n",
      "2000/2000 [==============================] - 1s 388us/step - loss: 0.0993 - acc: 0.9675 - val_loss: 0.2378 - val_acc: 0.9020\n",
      "Epoch 29/30\n",
      "2000/2000 [==============================] - 1s 385us/step - loss: 0.0923 - acc: 0.9735 - val_loss: 0.2391 - val_acc: 0.9030\n",
      "Epoch 30/30\n",
      "2000/2000 [==============================] - 1s 392us/step - loss: 0.0880 - acc: 0.9720 - val_loss: 0.2412 - val_acc: 0.9040\n"
     ]
    }
   ],
   "source": [
    "from keras import models\n",
    "from keras import layers\n",
    "from keras import optimizers\n",
    "\n",
    "model = models.Sequential()\n",
    "model.add(layers.Dense(256, activation='relu', input_dim=4 * 4 * 512))\n",
    "model.add(layers.Dropout(0.5))\n",
    "model.add(layers.Dense(1, activation='sigmoid'))\n",
    "\n",
    "model.compile(optimizer=optimizers.RMSprop(lr=2e-5),\n",
    "              loss='binary_crossentropy',\n",
    "              metrics=['acc'])\n",
    "\n",
    "history = model.fit(train_features, train_labels,\n",
    "                    epochs=30,\n",
    "                    batch_size=20,\n",
    "                    validation_data=(validation_features, validation_labels))"
   ]
  },
  {
   "cell_type": "code",
   "execution_count": 0,
   "metadata": {
    "colab": {},
    "colab_type": "code",
    "id": "qaDl3fYN_n4u"
   },
   "outputs": [],
   "source": [
    "import matplotlib.pyplot as plt"
   ]
  },
  {
   "cell_type": "code",
   "execution_count": 8,
   "metadata": {
    "colab": {
     "base_uri": "https://localhost:8080/",
     "height": 545
    },
    "colab_type": "code",
    "id": "Nn9BTtId_n4w",
    "outputId": "fa4f42ec-bee9-41cd-87fa-ee0c4864015a"
   },
   "outputs": [
    {
     "data": {
      "image/png": "[encoded data removed]",
      "text/plain": [
       "<Figure size 432x288 with 1 Axes>"
      ]
     },
     "metadata": {
      "tags": []
     },
     "output_type": "display_data"
    },
    {
     "data": {
      "image/png": "[encoded data removed]",
      "text/plain": [
       "<Figure size 432x288 with 1 Axes>"
      ]
     },
     "metadata": {
      "tags": []
     },
     "output_type": "display_data"
    }
   ],
   "source": [
    "acc = history.history['acc']\n",
    "val_acc = history.history['val_acc']\n",
    "loss = history.history['loss']\n",
    "val_loss = history.history['val_loss']\n",
    "\n",
    "epochs = range(len(acc))\n",
    "\n",
    "plt.plot(epochs, acc, 'bo', label='Training acc')\n",
    "plt.plot(epochs, val_acc, 'b', label='Validation acc')\n",
    "plt.title('Training and validation accuracy')\n",
    "plt.legend()\n",
    "\n",
    "plt.figure()\n",
    "\n",
    "plt.plot(epochs, loss, 'bo', label='Training loss')\n",
    "plt.plot(epochs, val_loss, 'b', label='Validation loss')\n",
    "plt.title('Training and validation loss')\n",
    "plt.legend()\n",
    "\n",
    "plt.show()"
   ]
  },
  {
   "cell_type": "code",
   "execution_count": 0,
   "metadata": {
    "colab": {},
    "colab_type": "code",
    "id": "_x2zOnAi_n41"
   },
   "outputs": [],
   "source": [
    "from keras import models\n",
    "from keras import layers\n",
    "\n",
    "model = models.Sequential()\n",
    "model.add(conv_base)\n",
    "model.add(layers.Flatten())\n",
    "model.add(layers.Dense(256, activation='relu'))\n",
    "model.add(layers.Dense(1, activation='sigmoid'))"
   ]
  },
  {
   "cell_type": "code",
   "execution_count": 10,
   "metadata": {
    "colab": {
     "base_uri": "https://localhost:8080/",
     "height": 272
    },
    "colab_type": "code",
    "id": "9ID6aozAQPe5",
    "outputId": "97e0b1f0-a425-4a5f-8c53-055dc029ba72"
   },
   "outputs": [
    {
     "name": "stdout",
     "output_type": "stream",
     "text": [
      "_________________________________________________________________\n",
      "Layer (type)                 Output Shape              Param #   \n",
      "=================================================================\n",
      "vgg16 (Model)                (None, 4, 4, 512)         14714688  \n",
      "_________________________________________________________________\n",
      "flatten_1 (Flatten)          (None, 8192)              0         \n",
      "_________________________________________________________________\n",
      "dense_3 (Dense)              (None, 256)               2097408   \n",
      "_________________________________________________________________\n",
      "dense_4 (Dense)              (None, 1)                 257       \n",
      "=================================================================\n",
      "Total params: 16,812,353\n",
      "Trainable params: 16,812,353\n",
      "Non-trainable params: 0\n",
      "_________________________________________________________________\n"
     ]
    }
   ],
   "source": [
    "model.summary()"
   ]
  },
  {
   "cell_type": "code",
   "execution_count": 11,
   "metadata": {
    "colab": {
     "base_uri": "https://localhost:8080/",
     "height": 34
    },
    "colab_type": "code",
    "id": "QvSMBotcQa56",
    "outputId": "89672636-9e02-4d99-9ba4-68303ad52e4c"
   },
   "outputs": [
    {
     "name": "stdout",
     "output_type": "stream",
     "text": [
      "conv_base를 동결하기 전 훈련되는 가중치의 수: 30\n"
     ]
    }
   ],
   "source": [
    "print('conv_base를 동결하기 전 훈련되는 가중치의 수:',\n",
    "      len(model.trainable_weights))"
   ]
  },
  {
   "cell_type": "code",
   "execution_count": 0,
   "metadata": {
    "colab": {},
    "colab_type": "code",
    "id": "Wulv1yVPWfwz"
   },
   "outputs": [],
   "source": [
    "conv_base.trainable = False"
   ]
  },
  {
   "cell_type": "code",
   "execution_count": 13,
   "metadata": {
    "colab": {
     "base_uri": "https://localhost:8080/",
     "height": 34
    },
    "colab_type": "code",
    "id": "Hnqv8O9dWimk",
    "outputId": "54f54849-4462-4a56-83a4-88959a8f2076"
   },
   "outputs": [
    {
     "name": "stdout",
     "output_type": "stream",
     "text": [
      "conv_base를 동결한 후 훈련되는 가중치의 수: 4\n"
     ]
    }
   ],
   "source": [
    "print('conv_base를 동결한 후 훈련되는 가중치의 수:',\n",
    "      len(model.trainable_weights))"
   ]
  },
  {
   "cell_type": "code",
   "execution_count": 14,
   "metadata": {
    "colab": {
     "base_uri": "https://localhost:8080/",
     "height": 1071
    },
    "colab_type": "code",
    "id": "9F8XpefyWDAv",
    "outputId": "cebb52bc-91cb-4cc1-c7d2-ddd4d5616d7b"
   },
   "outputs": [
    {
     "name": "stdout",
     "output_type": "stream",
     "text": [
      "Found 2000 images belonging to 2 classes.\n",
      "Found 1000 images belonging to 2 classes.\n",
      "Epoch 1/30\n",
      " - 28s - loss: 0.5402 - acc: 0.7505 - val_loss: 0.4295 - val_acc: 0.8300\n",
      "Epoch 2/30\n",
      " - 26s - loss: 0.4142 - acc: 0.8290 - val_loss: 0.3474 - val_acc: 0.8760\n",
      "Epoch 3/30\n",
      " - 26s - loss: 0.3512 - acc: 0.8560 - val_loss: 0.3093 - val_acc: 0.8900\n",
      "Epoch 4/30\n",
      " - 25s - loss: 0.3225 - acc: 0.8720 - val_loss: 0.2870 - val_acc: 0.8940\n",
      "Epoch 5/30\n",
      " - 25s - loss: 0.3081 - acc: 0.8710 - val_loss: 0.2734 - val_acc: 0.8960\n",
      "Epoch 6/30\n",
      " - 25s - loss: 0.2941 - acc: 0.8855 - val_loss: 0.2653 - val_acc: 0.8980\n",
      "Epoch 7/30\n",
      " - 25s - loss: 0.2725 - acc: 0.8915 - val_loss: 0.2605 - val_acc: 0.9010\n",
      "Epoch 8/30\n",
      " - 26s - loss: 0.2737 - acc: 0.8810 - val_loss: 0.2732 - val_acc: 0.8790\n",
      "Epoch 9/30\n",
      " - 25s - loss: 0.2598 - acc: 0.8965 - val_loss: 0.2715 - val_acc: 0.8790\n",
      "Epoch 10/30\n",
      " - 27s - loss: 0.2516 - acc: 0.9000 - val_loss: 0.2560 - val_acc: 0.8860\n",
      "Epoch 11/30\n",
      " - 25s - loss: 0.2468 - acc: 0.9000 - val_loss: 0.2677 - val_acc: 0.8880\n",
      "Epoch 12/30\n",
      " - 26s - loss: 0.2424 - acc: 0.8960 - val_loss: 0.2412 - val_acc: 0.9030\n",
      "Epoch 13/30\n",
      " - 25s - loss: 0.2380 - acc: 0.8970 - val_loss: 0.2396 - val_acc: 0.9090\n",
      "Epoch 14/30\n",
      " - 25s - loss: 0.2399 - acc: 0.9020 - val_loss: 0.2392 - val_acc: 0.9060\n",
      "Epoch 15/30\n",
      " - 25s - loss: 0.2202 - acc: 0.9185 - val_loss: 0.2382 - val_acc: 0.9060\n",
      "Epoch 16/30\n",
      " - 25s - loss: 0.2291 - acc: 0.9055 - val_loss: 0.2383 - val_acc: 0.9070\n",
      "Epoch 17/30\n",
      " - 26s - loss: 0.2121 - acc: 0.9190 - val_loss: 0.2521 - val_acc: 0.9020\n",
      "Epoch 18/30\n",
      " - 26s - loss: 0.2173 - acc: 0.9175 - val_loss: 0.2409 - val_acc: 0.9080\n",
      "Epoch 19/30\n",
      " - 26s - loss: 0.2157 - acc: 0.9150 - val_loss: 0.2416 - val_acc: 0.9070\n",
      "Epoch 20/30\n",
      " - 25s - loss: 0.2092 - acc: 0.9210 - val_loss: 0.2425 - val_acc: 0.9070\n",
      "Epoch 21/30\n",
      " - 25s - loss: 0.2029 - acc: 0.9220 - val_loss: 0.2442 - val_acc: 0.9010\n",
      "Epoch 22/30\n",
      " - 25s - loss: 0.2015 - acc: 0.9130 - val_loss: 0.2347 - val_acc: 0.9050\n",
      "Epoch 23/30\n",
      " - 26s - loss: 0.2064 - acc: 0.9185 - val_loss: 0.2383 - val_acc: 0.9060\n",
      "Epoch 24/30\n",
      " - 26s - loss: 0.2046 - acc: 0.9205 - val_loss: 0.2353 - val_acc: 0.9060\n",
      "Epoch 25/30\n",
      " - 25s - loss: 0.1952 - acc: 0.9205 - val_loss: 0.2519 - val_acc: 0.9020\n",
      "Epoch 26/30\n",
      " - 25s - loss: 0.1895 - acc: 0.9250 - val_loss: 0.2350 - val_acc: 0.9070\n",
      "Epoch 27/30\n",
      " - 25s - loss: 0.1930 - acc: 0.9245 - val_loss: 0.2421 - val_acc: 0.9030\n",
      "Epoch 28/30\n",
      " - 25s - loss: 0.1919 - acc: 0.9320 - val_loss: 0.2364 - val_acc: 0.9070\n",
      "Epoch 29/30\n",
      " - 26s - loss: 0.1868 - acc: 0.9310 - val_loss: 0.2349 - val_acc: 0.9070\n",
      "Epoch 30/30\n",
      " - 26s - loss: 0.1884 - acc: 0.9275 - val_loss: 0.2343 - val_acc: 0.9090\n"
     ]
    }
   ],
   "source": [
    "from keras.preprocessing.image import ImageDataGenerator\n",
    "\n",
    "train_datagen = ImageDataGenerator(\n",
    "      rescale=1./255,\n",
    "      rotation_range=20,\n",
    "      width_shift_range=0.1,\n",
    "      height_shift_range=0.1,\n",
    "      shear_range=0.1,\n",
    "      zoom_range=0.1,\n",
    "      horizontal_flip=True,\n",
    "      fill_mode='nearest')\n",
    "\n",
    "# 검증 데이터는 증식되어서는 안 됩니다!\n",
    "test_datagen = ImageDataGenerator(rescale=1./255)\n",
    "\n",
    "train_generator = train_datagen.flow_from_directory(\n",
    "        # 타깃 디렉터리\n",
    "        train_dir,\n",
    "        # 모든 이미지의 크기를 150 × 150로 변경합니다\n",
    "        target_size=(150, 150),\n",
    "        batch_size=20,\n",
    "        # binary_crossentropy 손실을 사용하므로 이진 레이블이 필요합니다\n",
    "        class_mode='binary')\n",
    "\n",
    "validation_generator = test_datagen.flow_from_directory(\n",
    "        validation_dir,\n",
    "        target_size=(150, 150),\n",
    "        batch_size=20,\n",
    "        class_mode='binary')\n",
    "\n",
    "model.compile(loss='binary_crossentropy',\n",
    "              optimizer=optimizers.RMSprop(lr=2e-5),\n",
    "              metrics=['acc'])\n",
    "\n",
    "history = model.fit_generator(\n",
    "      train_generator,\n",
    "      steps_per_epoch=100,\n",
    "      epochs=30,\n",
    "      validation_data=validation_generator,\n",
    "      validation_steps=50,\n",
    "      verbose=2)"
   ]
  },
  {
   "cell_type": "code",
   "execution_count": 0,
   "metadata": {
    "colab": {},
    "colab_type": "code",
    "id": "MFtj2Hlda4UM"
   },
   "outputs": [],
   "source": [
    "model.save('cats_and_dogs_small_3.h5')\n",
    "\n",
    "!pip install -U -q PyDrive\n",
    "from pydrive.auth import GoogleAuth\n",
    "from pydrive.drive import GoogleDrive\n",
    "from google.colab import auth\n",
    "from oauth2client.client import GoogleCredentials\n",
    "\n",
    "auth.authenticate_user()\n",
    "gauth = GoogleAuth()\n",
    "gauth.credentials = GoogleCredentials.get_application_default()\n",
    "drive = GoogleDrive(gauth)\n",
    "  \n",
    "model_file = drive.CreateFile({'title' : 'cats_and_dogs_small_3.h5'})\n",
    "model_file.SetContentFile('cats_and_dogs_small_3.h5')\n",
    "model_file.Upload()"
   ]
  },
  {
   "cell_type": "code",
   "execution_count": 16,
   "metadata": {
    "colab": {
     "base_uri": "https://localhost:8080/",
     "height": 545
    },
    "colab_type": "code",
    "id": "c_OtySjHc5sg",
    "outputId": "3617ff4a-0b6b-4e44-ab97-6e8387994927"
   },
   "outputs": [
    {
     "data": {
      "image/png": "[encoded data removed]",
      "text/plain": [
       "<Figure size 432x288 with 1 Axes>"
      ]
     },
     "metadata": {
      "tags": []
     },
     "output_type": "display_data"
    },
    {
     "data": {
      "image/png": "[encoded data removed]",
      "text/plain": [
       "<Figure size 432x288 with 1 Axes>"
      ]
     },
     "metadata": {
      "tags": []
     },
     "output_type": "display_data"
    }
   ],
   "source": [
    "acc = history.history['acc']\n",
    "val_acc = history.history['val_acc']\n",
    "loss = history.history['loss']\n",
    "val_loss = history.history['val_loss']\n",
    "\n",
    "epochs = range(len(acc))\n",
    "\n",
    "plt.plot(epochs, acc, 'bo', label='Training acc')\n",
    "plt.plot(epochs, val_acc, 'b', label='Validation acc')\n",
    "plt.title('Training and validation accuracy')\n",
    "plt.legend()\n",
    "\n",
    "plt.figure()\n",
    "\n",
    "plt.plot(epochs, loss, 'bo', label='Training loss')\n",
    "plt.plot(epochs, val_loss, 'b', label='Validation loss')\n",
    "plt.title('Training and validation loss')\n",
    "plt.legend()\n",
    "\n",
    "plt.show()"
   ]
  },
  {
   "cell_type": "code",
   "execution_count": 17,
   "metadata": {
    "colab": {
     "base_uri": "https://localhost:8080/",
     "height": 782
    },
    "colab_type": "code",
    "id": "hp3uiXqedbu9",
    "outputId": "0c2619f0-c54c-4db1-fa8e-edb37f76dedd"
   },
   "outputs": [
    {
     "name": "stdout",
     "output_type": "stream",
     "text": [
      "_________________________________________________________________\n",
      "Layer (type)                 Output Shape              Param #   \n",
      "=================================================================\n",
      "input_1 (InputLayer)         (None, 150, 150, 3)       0         \n",
      "_________________________________________________________________\n",
      "block1_conv1 (Conv2D)        (None, 150, 150, 64)      1792      \n",
      "_________________________________________________________________\n",
      "block1_conv2 (Conv2D)        (None, 150, 150, 64)      36928     \n",
      "_________________________________________________________________\n",
      "block1_pool (MaxPooling2D)   (None, 75, 75, 64)        0         \n",
      "_________________________________________________________________\n",
      "block2_conv1 (Conv2D)        (None, 75, 75, 128)       73856     \n",
      "_________________________________________________________________\n",
      "block2_conv2 (Conv2D)        (None, 75, 75, 128)       147584    \n",
      "_________________________________________________________________\n",
      "block2_pool (MaxPooling2D)   (None, 37, 37, 128)       0         \n",
      "_________________________________________________________________\n",
      "block3_conv1 (Conv2D)        (None, 37, 37, 256)       295168    \n",
      "_________________________________________________________________\n",
      "block3_conv2 (Conv2D)        (None, 37, 37, 256)       590080    \n",
      "_________________________________________________________________\n",
      "block3_conv3 (Conv2D)        (None, 37, 37, 256)       590080    \n",
      "_________________________________________________________________\n",
      "block3_pool (MaxPooling2D)   (None, 18, 18, 256)       0         \n",
      "_________________________________________________________________\n",
      "block4_conv1 (Conv2D)        (None, 18, 18, 512)       1180160   \n",
      "_________________________________________________________________\n",
      "block4_conv2 (Conv2D)        (None, 18, 18, 512)       2359808   \n",
      "_________________________________________________________________\n",
      "block4_conv3 (Conv2D)        (None, 18, 18, 512)       2359808   \n",
      "_________________________________________________________________\n",
      "block4_pool (MaxPooling2D)   (None, 9, 9, 512)         0         \n",
      "_________________________________________________________________\n",
      "block5_conv1 (Conv2D)        (None, 9, 9, 512)         2359808   \n",
      "_________________________________________________________________\n",
      "block5_conv2 (Conv2D)        (None, 9, 9, 512)         2359808   \n",
      "_________________________________________________________________\n",
      "block5_conv3 (Conv2D)        (None, 9, 9, 512)         2359808   \n",
      "_________________________________________________________________\n",
      "block5_pool (MaxPooling2D)   (None, 4, 4, 512)         0         \n",
      "=================================================================\n",
      "Total params: 14,714,688\n",
      "Trainable params: 0\n",
      "Non-trainable params: 14,714,688\n",
      "_________________________________________________________________\n"
     ]
    }
   ],
   "source": [
    "conv_base.summary()"
   ]
  },
  {
   "cell_type": "code",
   "execution_count": 0,
   "metadata": {
    "colab": {},
    "colab_type": "code",
    "id": "z0iViOpWprSu"
   },
   "outputs": [],
   "source": [
    "conv_base.trainable = True\n",
    "\n",
    "set_trainable = False\n",
    "for layer in conv_base.layers:\n",
    "  if layer.name == 'bloack5_conv1':\n",
    "    set_trainable = True\n",
    "  if set_trainable:\n",
    "    layer.trainable = True\n",
    "  else:\n",
    "    layer.trainable = False"
   ]
  },
  {
   "cell_type": "code",
   "execution_count": 19,
   "metadata": {
    "colab": {
     "base_uri": "https://localhost:8080/",
     "height": 3420
    },
    "colab_type": "code",
    "id": "QW0WM6wDqFaU",
    "outputId": "d0abd25c-d43c-4c86-91d7-58a86f05af48"
   },
   "outputs": [
    {
     "name": "stdout",
     "output_type": "stream",
     "text": [
      "Epoch 1/100\n",
      "100/100 [==============================] - 30s 296ms/step - loss: 0.1721 - acc: 0.9360 - val_loss: 0.2221 - val_acc: 0.9170\n",
      "Epoch 2/100\n",
      "100/100 [==============================] - 26s 264ms/step - loss: 0.1759 - acc: 0.9305 - val_loss: 0.2437 - val_acc: 0.9000\n",
      "Epoch 3/100\n",
      "100/100 [==============================] - 26s 263ms/step - loss: 0.1760 - acc: 0.9290 - val_loss: 0.2294 - val_acc: 0.9080\n",
      "Epoch 4/100\n",
      "100/100 [==============================] - 27s 273ms/step - loss: 0.1765 - acc: 0.9290 - val_loss: 0.2339 - val_acc: 0.9050\n",
      "Epoch 5/100\n",
      "100/100 [==============================] - 27s 269ms/step - loss: 0.1755 - acc: 0.9285 - val_loss: 0.2244 - val_acc: 0.9110\n",
      "Epoch 6/100\n",
      "100/100 [==============================] - 26s 255ms/step - loss: 0.1696 - acc: 0.9340 - val_loss: 0.2439 - val_acc: 0.9060\n",
      "Epoch 7/100\n",
      "100/100 [==============================] - 25s 255ms/step - loss: 0.1762 - acc: 0.9300 - val_loss: 0.2417 - val_acc: 0.9060\n",
      "Epoch 8/100\n",
      "100/100 [==============================] - 25s 252ms/step - loss: 0.1695 - acc: 0.9270 - val_loss: 0.2281 - val_acc: 0.9060\n",
      "Epoch 9/100\n",
      "100/100 [==============================] - 26s 256ms/step - loss: 0.1763 - acc: 0.9345 - val_loss: 0.2490 - val_acc: 0.9050\n",
      "Epoch 10/100\n",
      "100/100 [==============================] - 26s 255ms/step - loss: 0.1675 - acc: 0.9395 - val_loss: 0.2299 - val_acc: 0.9120\n",
      "Epoch 11/100\n",
      "100/100 [==============================] - 25s 253ms/step - loss: 0.1716 - acc: 0.9310 - val_loss: 0.2370 - val_acc: 0.9090\n",
      "Epoch 12/100\n",
      "100/100 [==============================] - 26s 255ms/step - loss: 0.1691 - acc: 0.9345 - val_loss: 0.2328 - val_acc: 0.9140\n",
      "Epoch 13/100\n",
      "100/100 [==============================] - 25s 252ms/step - loss: 0.1719 - acc: 0.9305 - val_loss: 0.2517 - val_acc: 0.8980\n",
      "Epoch 14/100\n",
      " 99/100 [============================>.] - ETA: 0s - loss: 0.1632 - acc: 0.9359Epoch 15/100\n",
      "100/100 [==============================] - 25s 253ms/step - loss: 0.1631 - acc: 0.9390 - val_loss: 0.2265 - val_acc: 0.9190\n",
      "Epoch 16/100\n",
      "100/100 [==============================] - 27s 270ms/step - loss: 0.1654 - acc: 0.9375 - val_loss: 0.2499 - val_acc: 0.9030\n",
      "Epoch 17/100\n",
      "100/100 [==============================] - 26s 262ms/step - loss: 0.1529 - acc: 0.9440 - val_loss: 0.2440 - val_acc: 0.9030\n",
      "Epoch 18/100\n",
      "100/100 [==============================] - 25s 251ms/step - loss: 0.1666 - acc: 0.9360 - val_loss: 0.2157 - val_acc: 0.9100\n",
      "Epoch 19/100\n",
      "100/100 [==============================] - 25s 251ms/step - loss: 0.1663 - acc: 0.9395 - val_loss: 0.2509 - val_acc: 0.9010\n",
      "Epoch 20/100\n",
      "100/100 [==============================] - 25s 253ms/step - loss: 0.1732 - acc: 0.9330 - val_loss: 0.2398 - val_acc: 0.9010\n",
      "Epoch 21/100\n",
      "100/100 [==============================] - 25s 251ms/step - loss: 0.1543 - acc: 0.9405 - val_loss: 0.2411 - val_acc: 0.9100\n",
      "Epoch 22/100\n",
      "100/100 [==============================] - 25s 251ms/step - loss: 0.1607 - acc: 0.9400 - val_loss: 0.2358 - val_acc: 0.9080\n",
      "Epoch 23/100\n",
      "100/100 [==============================] - 25s 253ms/step - loss: 0.1559 - acc: 0.9430 - val_loss: 0.2477 - val_acc: 0.9010\n",
      "Epoch 24/100\n",
      "100/100 [==============================] - 25s 253ms/step - loss: 0.1622 - acc: 0.9380 - val_loss: 0.2212 - val_acc: 0.9200\n",
      "Epoch 25/100\n",
      "100/100 [==============================] - 25s 253ms/step - loss: 0.1560 - acc: 0.9385 - val_loss: 0.2418 - val_acc: 0.9060\n",
      "Epoch 26/100\n",
      "100/100 [==============================] - 26s 256ms/step - loss: 0.1518 - acc: 0.9475 - val_loss: 0.2382 - val_acc: 0.9030\n",
      "Epoch 27/100\n",
      "100/100 [==============================] - 25s 250ms/step - loss: 0.1626 - acc: 0.9350 - val_loss: 0.2599 - val_acc: 0.9040\n",
      "Epoch 28/100\n",
      "100/100 [==============================] - 27s 267ms/step - loss: 0.1604 - acc: 0.9410 - val_loss: 0.2261 - val_acc: 0.9080\n",
      "Epoch 29/100\n",
      "100/100 [==============================] - 26s 260ms/step - loss: 0.1462 - acc: 0.9430 - val_loss: 0.2434 - val_acc: 0.9010\n",
      "Epoch 30/100\n",
      "100/100 [==============================] - 25s 250ms/step - loss: 0.1529 - acc: 0.9405 - val_loss: 0.2535 - val_acc: 0.9010\n",
      "Epoch 31/100\n",
      "100/100 [==============================] - 25s 252ms/step - loss: 0.1587 - acc: 0.9390 - val_loss: 0.2338 - val_acc: 0.9110\n",
      "Epoch 32/100\n",
      "100/100 [==============================] - 25s 251ms/step - loss: 0.1491 - acc: 0.9410 - val_loss: 0.2366 - val_acc: 0.9070\n",
      "Epoch 33/100\n",
      "100/100 [==============================] - 25s 251ms/step - loss: 0.1535 - acc: 0.9415 - val_loss: 0.2619 - val_acc: 0.9030\n",
      "Epoch 34/100\n",
      "100/100 [==============================] - 25s 250ms/step - loss: 0.1386 - acc: 0.9465 - val_loss: 0.2201 - val_acc: 0.9170\n",
      "Epoch 35/100\n",
      "100/100 [==============================] - 25s 247ms/step - loss: 0.1459 - acc: 0.9465 - val_loss: 0.2498 - val_acc: 0.9070\n",
      "Epoch 36/100\n",
      "100/100 [==============================] - 25s 246ms/step - loss: 0.1555 - acc: 0.9425 - val_loss: 0.2529 - val_acc: 0.8970\n",
      "Epoch 37/100\n",
      "100/100 [==============================] - 25s 248ms/step - loss: 0.1436 - acc: 0.9480 - val_loss: 0.2464 - val_acc: 0.9100\n",
      "Epoch 38/100\n",
      "100/100 [==============================] - 25s 248ms/step - loss: 0.1474 - acc: 0.9475 - val_loss: 0.2272 - val_acc: 0.9080\n",
      "Epoch 39/100\n",
      "100/100 [==============================] - 25s 247ms/step - loss: 0.1565 - acc: 0.9395 - val_loss: 0.2482 - val_acc: 0.9070\n",
      "Epoch 40/100\n",
      "100/100 [==============================] - 25s 252ms/step - loss: 0.1358 - acc: 0.9540 - val_loss: 0.2510 - val_acc: 0.9010\n",
      "Epoch 41/100\n",
      "100/100 [==============================] - 26s 261ms/step - loss: 0.1527 - acc: 0.9445 - val_loss: 0.2325 - val_acc: 0.9120\n",
      "Epoch 42/100\n",
      "100/100 [==============================] - 25s 248ms/step - loss: 0.1380 - acc: 0.9505 - val_loss: 0.2500 - val_acc: 0.9020\n",
      "Epoch 43/100\n",
      "100/100 [==============================] - 25s 250ms/step - loss: 0.1495 - acc: 0.9380 - val_loss: 0.2469 - val_acc: 0.9060\n",
      "Epoch 44/100\n",
      "100/100 [==============================] - 25s 245ms/step - loss: 0.1461 - acc: 0.9425 - val_loss: 0.2402 - val_acc: 0.9070\n",
      "Epoch 45/100\n",
      "100/100 [==============================] - 25s 245ms/step - loss: 0.1386 - acc: 0.9485 - val_loss: 0.2395 - val_acc: 0.9090\n",
      "Epoch 46/100\n",
      "100/100 [==============================] - 24s 244ms/step - loss: 0.1497 - acc: 0.9405 - val_loss: 0.2413 - val_acc: 0.9060\n",
      "Epoch 47/100\n",
      "100/100 [==============================] - 24s 244ms/step - loss: 0.1474 - acc: 0.9425 - val_loss: 0.2512 - val_acc: 0.9050\n",
      "Epoch 48/100\n",
      "100/100 [==============================] - 25s 246ms/step - loss: 0.1309 - acc: 0.9435 - val_loss: 0.2245 - val_acc: 0.9110\n",
      "Epoch 49/100\n",
      "100/100 [==============================] - 24s 244ms/step - loss: 0.1577 - acc: 0.9395 - val_loss: 0.2519 - val_acc: 0.9030\n",
      "Epoch 50/100\n",
      "100/100 [==============================] - 24s 244ms/step - loss: 0.1347 - acc: 0.9485 - val_loss: 0.2568 - val_acc: 0.9010\n",
      "Epoch 51/100\n",
      "100/100 [==============================] - 25s 246ms/step - loss: 0.1382 - acc: 0.9460 - val_loss: 0.2453 - val_acc: 0.9080\n",
      "Epoch 52/100\n",
      "100/100 [==============================] - 24s 244ms/step - loss: 0.1470 - acc: 0.9445 - val_loss: 0.2456 - val_acc: 0.9120\n",
      "Epoch 53/100\n",
      "100/100 [==============================] - 26s 265ms/step - loss: 0.1408 - acc: 0.9465 - val_loss: 0.2392 - val_acc: 0.9110\n",
      "Epoch 54/100\n",
      "100/100 [==============================] - 25s 255ms/step - loss: 0.1349 - acc: 0.9485 - val_loss: 0.2376 - val_acc: 0.9140\n",
      "Epoch 55/100\n",
      "100/100 [==============================] - 25s 245ms/step - loss: 0.1413 - acc: 0.9480 - val_loss: 0.2563 - val_acc: 0.9070\n",
      "Epoch 56/100\n",
      "100/100 [==============================] - 24s 244ms/step - loss: 0.1466 - acc: 0.9505 - val_loss: 0.2613 - val_acc: 0.8990\n",
      "Epoch 57/100\n",
      "100/100 [==============================] - 24s 245ms/step - loss: 0.1327 - acc: 0.9475 - val_loss: 0.2446 - val_acc: 0.8990\n",
      "Epoch 58/100\n",
      "100/100 [==============================] - 24s 244ms/step - loss: 0.1463 - acc: 0.9435 - val_loss: 0.2267 - val_acc: 0.9140\n",
      "Epoch 59/100\n",
      "100/100 [==============================] - 24s 245ms/step - loss: 0.1308 - acc: 0.9525 - val_loss: 0.2627 - val_acc: 0.9000\n",
      "Epoch 60/100\n",
      "100/100 [==============================] - 24s 245ms/step - loss: 0.1373 - acc: 0.9460 - val_loss: 0.2440 - val_acc: 0.9080\n",
      "Epoch 61/100\n",
      "100/100 [==============================] - 24s 243ms/step - loss: 0.1386 - acc: 0.9460 - val_loss: 0.2408 - val_acc: 0.9110\n",
      "Epoch 62/100\n",
      "100/100 [==============================] - 24s 244ms/step - loss: 0.1411 - acc: 0.9440 - val_loss: 0.2405 - val_acc: 0.9090\n",
      "Epoch 63/100\n",
      "100/100 [==============================] - 24s 245ms/step - loss: 0.1264 - acc: 0.9525 - val_loss: 0.2568 - val_acc: 0.9090\n",
      "Epoch 64/100\n",
      "100/100 [==============================] - 24s 244ms/step - loss: 0.1312 - acc: 0.9555 - val_loss: 0.2581 - val_acc: 0.9000\n",
      "Epoch 65/100\n",
      "100/100 [==============================] - 24s 245ms/step - loss: 0.1346 - acc: 0.9525 - val_loss: 0.2355 - val_acc: 0.9110\n",
      "Epoch 66/100\n",
      "100/100 [==============================] - 27s 273ms/step - loss: 0.1333 - acc: 0.9525 - val_loss: 0.2515 - val_acc: 0.9060\n",
      "Epoch 67/100\n",
      "100/100 [==============================] - 24s 244ms/step - loss: 0.1400 - acc: 0.9455 - val_loss: 0.2595 - val_acc: 0.9040\n",
      "Epoch 68/100\n",
      "100/100 [==============================] - 24s 243ms/step - loss: 0.1292 - acc: 0.9525 - val_loss: 0.2457 - val_acc: 0.9060\n",
      "Epoch 69/100\n",
      "100/100 [==============================] - 24s 243ms/step - loss: 0.1401 - acc: 0.9455 - val_loss: 0.2514 - val_acc: 0.9080\n",
      "Epoch 70/100\n",
      "100/100 [==============================] - 24s 244ms/step - loss: 0.1418 - acc: 0.9435 - val_loss: 0.2619 - val_acc: 0.9090\n",
      "Epoch 71/100\n",
      "100/100 [==============================] - 24s 243ms/step - loss: 0.1391 - acc: 0.9485 - val_loss: 0.2473 - val_acc: 0.9130\n",
      "Epoch 72/100\n",
      "100/100 [==============================] - 24s 244ms/step - loss: 0.1319 - acc: 0.9515 - val_loss: 0.2523 - val_acc: 0.8980\n",
      "Epoch 73/100\n",
      "100/100 [==============================] - 24s 243ms/step - loss: 0.1433 - acc: 0.9380 - val_loss: 0.2416 - val_acc: 0.9070\n",
      "Epoch 74/100\n",
      "100/100 [==============================] - 24s 242ms/step - loss: 0.1305 - acc: 0.9510 - val_loss: 0.2578 - val_acc: 0.9110\n",
      "Epoch 75/100\n",
      "100/100 [==============================] - 24s 243ms/step - loss: 0.1328 - acc: 0.9540 - val_loss: 0.2287 - val_acc: 0.9160\n",
      "Epoch 76/100\n",
      "100/100 [==============================] - 24s 243ms/step - loss: 0.1375 - acc: 0.9505 - val_loss: 0.2725 - val_acc: 0.8990\n",
      "Epoch 77/100\n",
      "100/100 [==============================] - 24s 243ms/step - loss: 0.1354 - acc: 0.9535 - val_loss: 0.2465 - val_acc: 0.9060\n",
      "Epoch 78/100\n",
      "100/100 [==============================] - 25s 252ms/step - loss: 0.1356 - acc: 0.9530 - val_loss: 0.2680 - val_acc: 0.9000\n",
      "Epoch 79/100\n",
      "100/100 [==============================] - 25s 251ms/step - loss: 0.1262 - acc: 0.9510 - val_loss: 0.2465 - val_acc: 0.9130\n",
      "Epoch 80/100\n",
      "100/100 [==============================] - 24s 243ms/step - loss: 0.1318 - acc: 0.9495 - val_loss: 0.2489 - val_acc: 0.9100\n",
      "Epoch 81/100\n",
      "100/100 [==============================] - 24s 243ms/step - loss: 0.1298 - acc: 0.9530 - val_loss: 0.2555 - val_acc: 0.9060\n",
      "Epoch 82/100\n",
      "100/100 [==============================] - 24s 243ms/step - loss: 0.1403 - acc: 0.9465 - val_loss: 0.2497 - val_acc: 0.9120\n",
      "Epoch 83/100\n",
      "100/100 [==============================] - 24s 243ms/step - loss: 0.1216 - acc: 0.9575 - val_loss: 0.2624 - val_acc: 0.9070\n",
      "Epoch 84/100\n",
      "100/100 [==============================] - 24s 243ms/step - loss: 0.1212 - acc: 0.9565 - val_loss: 0.2663 - val_acc: 0.8980\n",
      "Epoch 85/100\n",
      "100/100 [==============================] - 24s 243ms/step - loss: 0.1308 - acc: 0.9470 - val_loss: 0.2445 - val_acc: 0.9080\n",
      "Epoch 86/100\n",
      "100/100 [==============================] - 24s 244ms/step - loss: 0.1201 - acc: 0.9590 - val_loss: 0.2519 - val_acc: 0.9110\n",
      "Epoch 87/100\n",
      "100/100 [==============================] - 24s 243ms/step - loss: 0.1275 - acc: 0.9580 - val_loss: 0.2505 - val_acc: 0.9040\n",
      "Epoch 88/100\n",
      "100/100 [==============================] - 24s 243ms/step - loss: 0.1252 - acc: 0.9535 - val_loss: 0.2406 - val_acc: 0.9100\n",
      "Epoch 89/100\n",
      "100/100 [==============================] - 24s 242ms/step - loss: 0.1265 - acc: 0.9495 - val_loss: 0.2725 - val_acc: 0.8990\n",
      "Epoch 90/100\n",
      "100/100 [==============================] - 24s 243ms/step - loss: 0.1255 - acc: 0.9550 - val_loss: 0.2681 - val_acc: 0.9070\n",
      "Epoch 91/100\n",
      "100/100 [==============================] - 26s 264ms/step - loss: 0.1172 - acc: 0.9550 - val_loss: 0.2271 - val_acc: 0.9070\n",
      "Epoch 92/100\n",
      "100/100 [==============================] - 24s 243ms/step - loss: 0.1223 - acc: 0.9520 - val_loss: 0.2684 - val_acc: 0.9070\n",
      "Epoch 93/100\n",
      "100/100 [==============================] - 24s 244ms/step - loss: 0.1121 - acc: 0.9590 - val_loss: 0.2571 - val_acc: 0.9050\n",
      "Epoch 94/100\n",
      "100/100 [==============================] - 24s 243ms/step - loss: 0.1284 - acc: 0.9485 - val_loss: 0.2589 - val_acc: 0.9000\n",
      "Epoch 95/100\n",
      "100/100 [==============================] - 24s 243ms/step - loss: 0.1252 - acc: 0.9560 - val_loss: 0.2813 - val_acc: 0.8990\n",
      "Epoch 96/100\n",
      "100/100 [==============================] - 24s 243ms/step - loss: 0.1188 - acc: 0.9550 - val_loss: 0.2248 - val_acc: 0.9210\n",
      "Epoch 97/100\n",
      "100/100 [==============================] - 24s 243ms/step - loss: 0.1203 - acc: 0.9560 - val_loss: 0.2741 - val_acc: 0.9000\n",
      "Epoch 98/100\n",
      "100/100 [==============================] - 24s 243ms/step - loss: 0.1175 - acc: 0.9565 - val_loss: 0.2354 - val_acc: 0.9210\n",
      "Epoch 99/100\n",
      "100/100 [==============================] - 24s 243ms/step - loss: 0.1270 - acc: 0.9530 - val_loss: 0.2666 - val_acc: 0.9060\n",
      "Epoch 100/100\n",
      "100/100 [==============================] - 24s 243ms/step - loss: 0.1223 - acc: 0.9545 - val_loss: 0.2603 - val_acc: 0.9050\n"
     ]
    }
   ],
   "source": [
    "model.compile(loss='binary_crossentropy',\n",
    "              optimizer=optimizers.RMSprop(lr=1e-5),\n",
    "              metrics=['acc'])\n",
    "\n",
    "history = model.fit_generator(\n",
    "      train_generator,\n",
    "      steps_per_epoch=100,\n",
    "      epochs=100,\n",
    "      validation_data=validation_generator,\n",
    "      validation_steps=50)"
   ]
  },
  {
   "cell_type": "code",
   "execution_count": 0,
   "metadata": {
    "colab": {},
    "colab_type": "code",
    "id": "Y_PsoZM_qalF"
   },
   "outputs": [],
   "source": [
    "model.save('cats_and_dogs_small_4.h5')\n",
    "\n",
    "model_file = drive.CreateFile({'title' : 'cats_and_dogs_small_4.h5'})\n",
    "model_file.SetContentFile('cats_and_dogs_small_4.h5')\n",
    "model_file.Upload()"
   ]
  },
  {
   "cell_type": "code",
   "execution_count": 21,
   "metadata": {
    "colab": {
     "base_uri": "https://localhost:8080/",
     "height": 545
    },
    "colab_type": "code",
    "id": "oAioUlzOUk-L",
    "outputId": "24a956b1-d65f-4f46-d84e-45116a7cfb80"
   },
   "outputs": [
    {
     "data": {
      "image/png": "[encoded data removed]",
      "text/plain": [
       "<Figure size 432x288 with 1 Axes>"
      ]
     },
     "metadata": {
      "tags": []
     },
     "output_type": "display_data"
    },
    {
     "data": {
      "image/png": "[encoded data removed]",
      "text/plain": [
       "<Figure size 432x288 with 1 Axes>"
      ]
     },
     "metadata": {
      "tags": []
     },
     "output_type": "display_data"
    }
   ],
   "source": [
    "acc = history.history['acc']\n",
    "val_acc = history.history['val_acc']\n",
    "loss = history.history['loss']\n",
    "val_loss = history.history['val_loss']\n",
    "\n",
    "epochs = range(len(acc))\n",
    "\n",
    "plt.plot(epochs, acc, 'bo', label='Training acc')\n",
    "plt.plot(epochs, val_acc, 'b', label='Validation acc')\n",
    "plt.title('Training and validation accuracy')\n",
    "plt.legend()\n",
    "\n",
    "plt.figure()\n",
    "\n",
    "plt.plot(epochs, loss, 'bo', label='Training loss')\n",
    "plt.plot(epochs, val_loss, 'b', label='Validation loss')\n",
    "plt.title('Training and validation loss')\n",
    "plt.legend()\n",
    "\n",
    "plt.show()"
   ]
  },
  {
   "cell_type": "code",
   "execution_count": 22,
   "metadata": {
    "colab": {
     "base_uri": "https://localhost:8080/",
     "height": 545
    },
    "colab_type": "code",
    "id": "dS9PrnHmVLnT",
    "outputId": "c990c3e8-e9d7-4e90-8cd3-66df6d122017"
   },
   "outputs": [
    {
     "data": {
      "image/png": "[encoded data removed]",
      "text/plain": [
       "<Figure size 432x288 with 1 Axes>"
      ]
     },
     "metadata": {
      "tags": []
     },
     "output_type": "display_data"
    },
    {
     "data": {
      "image/png": "[encoded data removed]",
      "text/plain": [
       "<Figure size 432x288 with 1 Axes>"
      ]
     },
     "metadata": {
      "tags": []
     },
     "output_type": "display_data"
    }
   ],
   "source": [
    "def smooth_curve(points, factor=0.8):\n",
    "  smoothed_points = []\n",
    "  for point in points:\n",
    "    if smoothed_points:\n",
    "      previous = smoothed_points[-1]\n",
    "      smoothed_points.append(previous * factor + point * (1 - factor))\n",
    "    else:\n",
    "      smoothed_points.append(point)\n",
    "  return smoothed_points\n",
    "\n",
    "plt.plot(epochs,\n",
    "         smooth_curve(acc), 'bo', label='Smoothed training acc')\n",
    "plt.plot(epochs,\n",
    "         smooth_curve(val_acc), 'b', label='Smoothed validation acc')\n",
    "plt.title('Training and validation accuracy')\n",
    "plt.legend()\n",
    "\n",
    "plt.figure()\n",
    "\n",
    "plt.plot(epochs,\n",
    "         smooth_curve(loss), 'bo', label='Smoothed training loss')\n",
    "plt.plot(epochs,\n",
    "         smooth_curve(val_loss), 'b', label='Smoothed validation loss')\n",
    "plt.title('Training and validation loss')\n",
    "plt.legend()\n",
    "\n",
    "plt.show()"
   ]
  },
  {
   "cell_type": "code",
   "execution_count": 23,
   "metadata": {
    "colab": {
     "base_uri": "https://localhost:8080/",
     "height": 51
    },
    "colab_type": "code",
    "id": "qv8smD3eWkPD",
    "outputId": "223d65aa-79bc-491c-a959-d54b1a95d324"
   },
   "outputs": [
    {
     "name": "stdout",
     "output_type": "stream",
     "text": [
      "Found 1020 images belonging to 2 classes.\n",
      "test acc: 0.9069999933242798\n"
     ]
    }
   ],
   "source": [
    "test_generator = test_datagen.flow_from_directory(\n",
    "        test_dir,\n",
    "        target_size=(150, 150),\n",
    "        batch_size=20,\n",
    "        class_mode='binary')\n",
    "\n",
    "test_loss, test_acc = model.evaluate_generator(test_generator, steps=50)\n",
    "print('test acc:', test_acc)"
   ]
  },
  {
   "cell_type": "code",
   "execution_count": 0,
   "metadata": {
    "colab": {},
    "colab_type": "code",
    "id": "E1RRb3y7XCsu"
   },
   "outputs": [],
   "source": []
  }
 ],
 "metadata": {
  "accelerator": "GPU",
  "colab": {
   "collapsed_sections": [],
   "include_colab_link": true,
   "name": "5.3-using-a-pretrained-convnet.ipynb",
   "provenance": [],
   "version": "0.3.2"
  },
  "kernelspec": {
   "display_name": "Python 3",
   "language": "python",
   "name": "python3"
  },
  "language_info": {
   "codemirror_mode": {
    "name": "ipython",
    "version": 3
   },
   "file_extension": ".py",
   "mimetype": "text/x-python",
   "name": "python",
   "nbconvert_exporter": "python",
   "pygments_lexer": "ipython3",
   "version": "3.7.1"
  }
 },
 "nbformat": 4,
 "nbformat_minor": 1
}
