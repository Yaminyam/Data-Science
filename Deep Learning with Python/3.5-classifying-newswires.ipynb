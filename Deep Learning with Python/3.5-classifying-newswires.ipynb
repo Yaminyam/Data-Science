{
 "cells": [
  {
   "cell_type": "code",
   "execution_count": 1,
   "metadata": {},
   "outputs": [
    {
     "name": "stderr",
     "output_type": "stream",
     "text": [
      "Using TensorFlow backend.\n"
     ]
    },
    {
     "name": "stdout",
     "output_type": "stream",
     "text": [
      "Downloading data from https://s3.amazonaws.com/text-datasets/reuters.npz\n",
      "2113536/2110848 [==============================] - 7s 3us/step\n"
     ]
    }
   ],
   "source": [
    "from keras.datasets import reuters\n",
    "\n",
    "(train_data, train_labels), (test_data, test_labels) = reuters.load_data(num_words=10000)"
   ]
  },
  {
   "cell_type": "code",
   "execution_count": 2,
   "metadata": {},
   "outputs": [
    {
     "data": {
      "text/plain": [
       "8982"
      ]
     },
     "execution_count": 2,
     "metadata": {},
     "output_type": "execute_result"
    }
   ],
   "source": [
    "len(train_data)"
   ]
  },
  {
   "cell_type": "code",
   "execution_count": 3,
   "metadata": {},
   "outputs": [
    {
     "data": {
      "text/plain": [
       "2246"
      ]
     },
     "execution_count": 3,
     "metadata": {},
     "output_type": "execute_result"
    }
   ],
   "source": [
    "len(test_data)"
   ]
  },
  {
   "cell_type": "code",
   "execution_count": 4,
   "metadata": {},
   "outputs": [
    {
     "data": {
      "text/plain": [
       "[1,\n",
       " 245,\n",
       " 273,\n",
       " 207,\n",
       " 156,\n",
       " 53,\n",
       " 74,\n",
       " 160,\n",
       " 26,\n",
       " 14,\n",
       " 46,\n",
       " 296,\n",
       " 26,\n",
       " 39,\n",
       " 74,\n",
       " 2979,\n",
       " 3554,\n",
       " 14,\n",
       " 46,\n",
       " 4689,\n",
       " 4329,\n",
       " 86,\n",
       " 61,\n",
       " 3499,\n",
       " 4795,\n",
       " 14,\n",
       " 61,\n",
       " 451,\n",
       " 4329,\n",
       " 17,\n",
       " 12]"
      ]
     },
     "execution_count": 4,
     "metadata": {},
     "output_type": "execute_result"
    }
   ],
   "source": [
    "train_data[10]"
   ]
  },
  {
   "cell_type": "code",
   "execution_count": 5,
   "metadata": {},
   "outputs": [
    {
     "name": "stdout",
     "output_type": "stream",
     "text": [
      "Downloading data from https://s3.amazonaws.com/text-datasets/reuters_word_index.json\n",
      "557056/550378 [==============================] - 10s 18us/step\n"
     ]
    }
   ],
   "source": [
    "word_index = reuters.get_word_index()\n",
    "reverse_word_index = dict([(value, key) for (key, value) in word_index.items()])\n",
    "decoded_newswire = ' '.join([reverse_word_index.get(i-3, '?') for i in train_data[0]])"
   ]
  },
  {
   "cell_type": "code",
   "execution_count": 6,
   "metadata": {},
   "outputs": [
    {
     "data": {
      "text/plain": [
       "'? ? ? said as a result of its december acquisition of space co it expects earnings per share in 1987 of 1 15 to 1 30 dlrs per share up from 70 cts in 1986 the company said pretax net should rise to nine to 10 mln dlrs from six mln dlrs in 1986 and rental operation revenues to 19 to 22 mln dlrs from 12 5 mln dlrs it said cash flow per share this year should be 2 50 to three dlrs reuter 3'"
      ]
     },
     "execution_count": 6,
     "metadata": {},
     "output_type": "execute_result"
    }
   ],
   "source": [
    "decoded_newswire"
   ]
  },
  {
   "cell_type": "code",
   "execution_count": 8,
   "metadata": {},
   "outputs": [],
   "source": [
    "import numpy as np\n",
    "\n",
    "def vectorize_sequences(sequences, dimension=10000):\n",
    "    results = np.zeros((len(sequences), dimension))\n",
    "    for i, sequence in enumerate(sequences):\n",
    "        results[i, sequence] = 1.\n",
    "    return results\n",
    "\n",
    "x_train = vectorize_sequences(train_data)\n",
    "x_test = vectorize_sequences(test_data)"
   ]
  },
  {
   "cell_type": "code",
   "execution_count": 10,
   "metadata": {},
   "outputs": [],
   "source": [
    "from keras.utils.np_utils import to_categorical\n",
    "\n",
    "one_hot_train_labels = to_categorical(train_labels)\n",
    "one_hot_test_labels = to_categorical(test_labels)"
   ]
  },
  {
   "cell_type": "code",
   "execution_count": 11,
   "metadata": {},
   "outputs": [
    {
     "name": "stdout",
     "output_type": "stream",
     "text": [
      "WARNING:tensorflow:From /anaconda3/lib/python3.7/site-packages/tensorflow/python/framework/op_def_library.py:263: colocate_with (from tensorflow.python.framework.ops) is deprecated and will be removed in a future version.\n",
      "Instructions for updating:\n",
      "Colocations handled automatically by placer.\n"
     ]
    }
   ],
   "source": [
    "from keras import models\n",
    "from keras import layers\n",
    "\n",
    "model = models.Sequential()\n",
    "model.add(layers.Dense(64, activation='relu', input_shape=(10000,)))\n",
    "model.add(layers.Dense(64, activation='relu'))\n",
    "model.add(layers.Dense(46, activation='softmax'))"
   ]
  },
  {
   "cell_type": "code",
   "execution_count": 13,
   "metadata": {},
   "outputs": [],
   "source": [
    "model.compile(optimizer='rmsprop',\n",
    "              loss='categorical_crossentropy',\n",
    "              metrics=['accuracy'])"
   ]
  },
  {
   "cell_type": "code",
   "execution_count": 14,
   "metadata": {},
   "outputs": [],
   "source": [
    "x_val = x_train[:1000]\n",
    "partial_x_train = x_train[1000:]\n",
    "\n",
    "y_val = one_hot_train_labels[:1000]\n",
    "partial_y_train = one_hot_train_labels[1000:]"
   ]
  },
  {
   "cell_type": "code",
   "execution_count": 15,
   "metadata": {},
   "outputs": [
    {
     "name": "stdout",
     "output_type": "stream",
     "text": [
      "WARNING:tensorflow:From /anaconda3/lib/python3.7/site-packages/tensorflow/python/ops/math_ops.py:3066: to_int32 (from tensorflow.python.ops.math_ops) is deprecated and will be removed in a future version.\n",
      "Instructions for updating:\n",
      "Use tf.cast instead.\n",
      "Train on 7982 samples, validate on 1000 samples\n",
      "Epoch 1/20\n",
      "7982/7982 [==============================] - 1s 122us/step - loss: 2.5322 - acc: 0.4955 - val_loss: 1.7208 - val_acc: 0.6120\n",
      "Epoch 2/20\n",
      "7982/7982 [==============================] - 1s 66us/step - loss: 1.4452 - acc: 0.6879 - val_loss: 1.3459 - val_acc: 0.7060\n",
      "Epoch 3/20\n",
      "7982/7982 [==============================] - 1s 65us/step - loss: 1.0953 - acc: 0.7651 - val_loss: 1.1708 - val_acc: 0.7430\n",
      "Epoch 4/20\n",
      "7982/7982 [==============================] - 1s 65us/step - loss: 0.8697 - acc: 0.8165 - val_loss: 1.0793 - val_acc: 0.7590\n",
      "Epoch 5/20\n",
      "7982/7982 [==============================] - 1s 65us/step - loss: 0.7034 - acc: 0.8472 - val_loss: 0.9844 - val_acc: 0.7810\n",
      "Epoch 6/20\n",
      "7982/7982 [==============================] - 1s 65us/step - loss: 0.5667 - acc: 0.8802 - val_loss: 0.9411 - val_acc: 0.8040\n",
      "Epoch 7/20\n",
      "7982/7982 [==============================] - 1s 65us/step - loss: 0.4581 - acc: 0.9048 - val_loss: 0.9083 - val_acc: 0.8020\n",
      "Epoch 8/20\n",
      "7982/7982 [==============================] - 1s 64us/step - loss: 0.3695 - acc: 0.9231 - val_loss: 0.9363 - val_acc: 0.7890\n",
      "Epoch 9/20\n",
      "7982/7982 [==============================] - 1s 65us/step - loss: 0.3032 - acc: 0.9315 - val_loss: 0.8917 - val_acc: 0.8090\n",
      "Epoch 10/20\n",
      "7982/7982 [==============================] - 1s 64us/step - loss: 0.2537 - acc: 0.9414 - val_loss: 0.9071 - val_acc: 0.8110\n",
      "Epoch 11/20\n",
      "7982/7982 [==============================] - 1s 65us/step - loss: 0.2187 - acc: 0.9471 - val_loss: 0.9177 - val_acc: 0.8130\n",
      "Epoch 12/20\n",
      "7982/7982 [==============================] - 1s 66us/step - loss: 0.1873 - acc: 0.9508 - val_loss: 0.9027 - val_acc: 0.8130\n",
      "Epoch 13/20\n",
      "7982/7982 [==============================] - 1s 65us/step - loss: 0.1703 - acc: 0.9521 - val_loss: 0.9323 - val_acc: 0.8110\n",
      "Epoch 14/20\n",
      "7982/7982 [==============================] - 1s 64us/step - loss: 0.1536 - acc: 0.9554 - val_loss: 0.9689 - val_acc: 0.8050\n",
      "Epoch 15/20\n",
      "7982/7982 [==============================] - 1s 65us/step - loss: 0.1390 - acc: 0.9560 - val_loss: 0.9686 - val_acc: 0.8150\n",
      "Epoch 16/20\n",
      "7982/7982 [==============================] - 1s 65us/step - loss: 0.1313 - acc: 0.9560 - val_loss: 1.0220 - val_acc: 0.8060\n",
      "Epoch 17/20\n",
      "7982/7982 [==============================] - 1s 64us/step - loss: 0.1217 - acc: 0.9579 - val_loss: 1.0254 - val_acc: 0.7970\n",
      "Epoch 18/20\n",
      "7982/7982 [==============================] - 1s 65us/step - loss: 0.1198 - acc: 0.9582 - val_loss: 1.0430 - val_acc: 0.8060\n",
      "Epoch 19/20\n",
      "7982/7982 [==============================] - 1s 65us/step - loss: 0.1138 - acc: 0.9597 - val_loss: 1.0955 - val_acc: 0.7970\n",
      "Epoch 20/20\n",
      "7982/7982 [==============================] - 1s 65us/step - loss: 0.1111 - acc: 0.9593 - val_loss: 1.0674 - val_acc: 0.8020\n"
     ]
    }
   ],
   "source": [
    "history = model.fit(partial_x_train,\n",
    "                    partial_y_train,\n",
    "                    epochs=20,\n",
    "                    batch_size=512,\n",
    "                    validation_data=(x_val, y_val))"
   ]
  },
  {
   "cell_type": "code",
   "execution_count": 17,
   "metadata": {},
   "outputs": [
    {
     "data": {
      "image/png": "[encoded data removed]",
      "text/plain": [
       "<Figure size 432x288 with 1 Axes>"
      ]
     },
     "metadata": {
      "needs_background": "light"
     },
     "output_type": "display_data"
    }
   ],
   "source": [
    "import matplotlib.pyplot as plt\n",
    "\n",
    "loss = history.history['loss']\n",
    "val_loss = history.history['val_loss']\n",
    "\n",
    "epochs = range(1, len(loss) + 1)\n",
    "\n",
    "plt.plot(epochs, loss, 'bo', label='Training loss')\n",
    "plt.plot(epochs, val_loss, 'b', label='Validation loss')\n",
    "plt.title('Training and validation loss')\n",
    "plt.xlabel('Epochs')\n",
    "plt.ylabel('Loss')\n",
    "plt.legend()\n",
    "\n",
    "plt.show()"
   ]
  },
  {
   "cell_type": "code",
   "execution_count": 18,
   "metadata": {},
   "outputs": [
    {
     "data": {
      "image/png": "[encoded data removed]",
      "text/plain": [
       "<Figure size 432x288 with 1 Axes>"
      ]
     },
     "metadata": {
      "needs_background": "light"
     },
     "output_type": "display_data"
    }
   ],
   "source": [
    "plt.clf()\n",
    "\n",
    "acc = history.history['acc']\n",
    "val_acc = history.history['val_acc']\n",
    "\n",
    "plt.plot(epochs, acc, 'bo', label='Training acc')\n",
    "plt.plot(epochs, val_acc, 'b', label='Validation acc')\n",
    "plt.title('Training and validation accuracy')\n",
    "plt.xlabel('Epochs')\n",
    "plt.ylabel('Accuracy')\n",
    "plt.legend()\n",
    "\n",
    "plt.show()"
   ]
  },
  {
   "cell_type": "code",
   "execution_count": 21,
   "metadata": {},
   "outputs": [
    {
     "name": "stdout",
     "output_type": "stream",
     "text": [
      "Train on 7982 samples, validate on 1000 samples\n",
      "Epoch 1/9\n",
      "7982/7982 [==============================] - 1s 102us/step - loss: 2.5398 - acc: 0.5226 - val_loss: 1.6733 - val_acc: 0.6570\n",
      "Epoch 2/9\n",
      "7982/7982 [==============================] - 1s 69us/step - loss: 1.3712 - acc: 0.7121 - val_loss: 1.2758 - val_acc: 0.7210\n",
      "Epoch 3/9\n",
      "7982/7982 [==============================] - 1s 66us/step - loss: 1.0136 - acc: 0.7781 - val_loss: 1.1303 - val_acc: 0.7530\n",
      "Epoch 4/9\n",
      "7982/7982 [==============================] - 1s 67us/step - loss: 0.7976 - acc: 0.8251 - val_loss: 1.0539 - val_acc: 0.7590\n",
      "Epoch 5/9\n",
      "7982/7982 [==============================] - 1s 66us/step - loss: 0.6393 - acc: 0.8624 - val_loss: 0.9754 - val_acc: 0.7920\n",
      "Epoch 6/9\n",
      "7982/7982 [==============================] - 1s 67us/step - loss: 0.5124 - acc: 0.8921 - val_loss: 0.9102 - val_acc: 0.8140\n",
      "Epoch 7/9\n",
      "7982/7982 [==============================] - 1s 67us/step - loss: 0.4124 - acc: 0.9137 - val_loss: 0.8932 - val_acc: 0.8210\n",
      "Epoch 8/9\n",
      "7982/7982 [==============================] - 1s 67us/step - loss: 0.3355 - acc: 0.9290 - val_loss: 0.8732 - val_acc: 0.8260\n",
      "Epoch 9/9\n",
      "7982/7982 [==============================] - 1s 67us/step - loss: 0.2782 - acc: 0.9371 - val_loss: 0.9338 - val_acc: 0.8000\n",
      "2246/2246 [==============================] - 0s 69us/step\n"
     ]
    }
   ],
   "source": [
    "model = models.Sequential()\n",
    "\n",
    "model.add(layers.Dense(64, activation='relu', input_shape=(10000,)))\n",
    "model.add(layers.Dense(64, activation='relu'))\n",
    "model.add(layers.Dense(46, activation='softmax'))\n",
    "\n",
    "model.compile(optimizer='rmsprop',\n",
    "              loss='categorical_crossentropy',\n",
    "              metrics=['accuracy'])\n",
    "model.fit(partial_x_train,\n",
    "          partial_y_train,\n",
    "          epochs=9,\n",
    "          batch_size=512,\n",
    "          validation_data=(x_val, y_val))\n",
    "results = model.evaluate(x_test, one_hot_test_labels)"
   ]
  },
  {
   "cell_type": "code",
   "execution_count": 22,
   "metadata": {},
   "outputs": [
    {
     "data": {
      "text/plain": [
       "[1.022498272405813, 0.7756010686194165]"
      ]
     },
     "execution_count": 22,
     "metadata": {},
     "output_type": "execute_result"
    }
   ],
   "source": [
    "results"
   ]
  },
  {
   "cell_type": "code",
   "execution_count": 23,
   "metadata": {},
   "outputs": [],
   "source": [
    "import copy"
   ]
  },
  {
   "cell_type": "code",
   "execution_count": 24,
   "metadata": {},
   "outputs": [],
   "source": [
    "test_labels_copy = copy.copy(test_labels)"
   ]
  },
  {
   "cell_type": "code",
   "execution_count": 25,
   "metadata": {},
   "outputs": [],
   "source": [
    "np.random.shuffle(test_labels_copy)"
   ]
  },
  {
   "cell_type": "code",
   "execution_count": 26,
   "metadata": {},
   "outputs": [],
   "source": [
    "hits_array = np.array(test_labels) == np.array(test_labels_copy)"
   ]
  },
  {
   "cell_type": "code",
   "execution_count": 27,
   "metadata": {},
   "outputs": [
    {
     "data": {
      "text/plain": [
       "0.182546749777382"
      ]
     },
     "execution_count": 27,
     "metadata": {},
     "output_type": "execute_result"
    }
   ],
   "source": [
    "float(np.sum(hits_array)) / len(test_labels)"
   ]
  },
  {
   "cell_type": "code",
   "execution_count": 28,
   "metadata": {},
   "outputs": [],
   "source": [
    "predictions = model.predict(x_test)"
   ]
  },
  {
   "cell_type": "code",
   "execution_count": 29,
   "metadata": {},
   "outputs": [
    {
     "data": {
      "text/plain": [
       "(46,)"
      ]
     },
     "execution_count": 29,
     "metadata": {},
     "output_type": "execute_result"
    }
   ],
   "source": [
    "predictions[0].shape"
   ]
  },
  {
   "cell_type": "code",
   "execution_count": 30,
   "metadata": {},
   "outputs": [
    {
     "data": {
      "text/plain": [
       "0.99999976"
      ]
     },
     "execution_count": 30,
     "metadata": {},
     "output_type": "execute_result"
    }
   ],
   "source": [
    "np.sum(predictions[0])"
   ]
  },
  {
   "cell_type": "code",
   "execution_count": 31,
   "metadata": {},
   "outputs": [
    {
     "data": {
      "text/plain": [
       "3"
      ]
     },
     "execution_count": 31,
     "metadata": {},
     "output_type": "execute_result"
    }
   ],
   "source": [
    "np.argmax(predictions[0])"
   ]
  },
  {
   "cell_type": "code",
   "execution_count": 32,
   "metadata": {},
   "outputs": [],
   "source": [
    "y_train = np.array(train_labels)\n",
    "y_test = np.array(test_labels)"
   ]
  },
  {
   "cell_type": "code",
   "execution_count": 34,
   "metadata": {},
   "outputs": [],
   "source": [
    "model.compile(optimizer='rmsprop',\n",
    "              loss='sparse_categorical_crossentropy',\n",
    "              metrics=['acc'])"
   ]
  },
  {
   "cell_type": "code",
   "execution_count": 36,
   "metadata": {},
   "outputs": [
    {
     "name": "stdout",
     "output_type": "stream",
     "text": [
      "Train on 7982 samples, validate on 1000 samples\n",
      "Epoch 1/20\n",
      "7982/7982 [==============================] - 1s 131us/step - loss: 2.4715 - acc: 0.4980 - val_loss: 1.8520 - val_acc: 0.5960\n",
      "Epoch 2/20\n",
      "7982/7982 [==============================] - 1s 100us/step - loss: 1.6668 - acc: 0.6161 - val_loss: 1.6007 - val_acc: 0.6280\n",
      "Epoch 3/20\n",
      "7982/7982 [==============================] - 1s 104us/step - loss: 1.4295 - acc: 0.6564 - val_loss: 1.4855 - val_acc: 0.6520\n",
      "Epoch 4/20\n",
      "7982/7982 [==============================] - 1s 103us/step - loss: 1.2656 - acc: 0.6823 - val_loss: 1.4021 - val_acc: 0.6770\n",
      "Epoch 5/20\n",
      "7982/7982 [==============================] - 1s 100us/step - loss: 1.1230 - acc: 0.7132 - val_loss: 1.3736 - val_acc: 0.6710\n",
      "Epoch 6/20\n",
      "7982/7982 [==============================] - 1s 100us/step - loss: 1.0055 - acc: 0.7256 - val_loss: 1.2977 - val_acc: 0.6830\n",
      "Epoch 7/20\n",
      "7982/7982 [==============================] - 1s 101us/step - loss: 0.9076 - acc: 0.7334 - val_loss: 1.3017 - val_acc: 0.6880\n",
      "Epoch 8/20\n",
      "7982/7982 [==============================] - 1s 102us/step - loss: 0.8194 - acc: 0.7805 - val_loss: 1.2751 - val_acc: 0.7190\n",
      "Epoch 9/20\n",
      "7982/7982 [==============================] - 1s 102us/step - loss: 0.7482 - acc: 0.8001 - val_loss: 1.2815 - val_acc: 0.7200\n",
      "Epoch 10/20\n",
      "7982/7982 [==============================] - 1s 102us/step - loss: 0.6895 - acc: 0.8101 - val_loss: 1.2975 - val_acc: 0.7160\n",
      "Epoch 11/20\n",
      "7982/7982 [==============================] - 1s 97us/step - loss: 0.6443 - acc: 0.8187 - val_loss: 1.3269 - val_acc: 0.7180\n",
      "Epoch 12/20\n",
      "7982/7982 [==============================] - 1s 99us/step - loss: 0.6061 - acc: 0.8282 - val_loss: 1.3814 - val_acc: 0.7220\n",
      "Epoch 13/20\n",
      "7982/7982 [==============================] - 1s 100us/step - loss: 0.5742 - acc: 0.8384 - val_loss: 1.3892 - val_acc: 0.7140\n",
      "Epoch 14/20\n",
      "7982/7982 [==============================] - 1s 99us/step - loss: 0.5447 - acc: 0.8478 - val_loss: 1.4438 - val_acc: 0.7110\n",
      "Epoch 15/20\n",
      "7982/7982 [==============================] - 1s 100us/step - loss: 0.5201 - acc: 0.8497 - val_loss: 1.4610 - val_acc: 0.7150\n",
      "Epoch 16/20\n",
      "7982/7982 [==============================] - 1s 99us/step - loss: 0.4950 - acc: 0.8527 - val_loss: 1.5093 - val_acc: 0.7190\n",
      "Epoch 17/20\n",
      "7982/7982 [==============================] - 1s 99us/step - loss: 0.4765 - acc: 0.8525 - val_loss: 1.5168 - val_acc: 0.7190\n",
      "Epoch 18/20\n",
      "7982/7982 [==============================] - 1s 100us/step - loss: 0.4553 - acc: 0.8591 - val_loss: 1.5763 - val_acc: 0.7190\n",
      "Epoch 19/20\n",
      "7982/7982 [==============================] - 1s 99us/step - loss: 0.4402 - acc: 0.8642 - val_loss: 1.6347 - val_acc: 0.7160\n",
      "Epoch 20/20\n",
      "7982/7982 [==============================] - 1s 100us/step - loss: 0.4259 - acc: 0.8696 - val_loss: 1.6519 - val_acc: 0.7210\n"
     ]
    },
    {
     "data": {
      "text/plain": [
       "<keras.callbacks.History at 0xb34b73ef0>"
      ]
     },
     "execution_count": 36,
     "metadata": {},
     "output_type": "execute_result"
    }
   ],
   "source": [
    "model = models.Sequential()\n",
    "model.add(layers.Dense(64, activation='relu', input_shape=(10000,)))\n",
    "model.add(layers.Dense(4, activation='relu'))\n",
    "model.add(layers.Dense(46, activation='softmax'))\n",
    "\n",
    "model.compile(optimizer='rmsprop',\n",
    "              loss='categorical_crossentropy',\n",
    "              metrics=['accuracy'])\n",
    "model.fit(partial_x_train,\n",
    "          partial_y_train,\n",
    "          epochs=20,\n",
    "          batch_size=128,\n",
    "          validation_data=(x_val, y_val))"
   ]
  },
  {
   "cell_type": "code",
   "execution_count": 37,
   "metadata": {},
   "outputs": [
    {
     "name": "stdout",
     "output_type": "stream",
     "text": [
      "Train on 7982 samples, validate on 1000 samples\n",
      "Epoch 1/20\n",
      "7982/7982 [==============================] - 2s 202us/step - loss: 1.5676 - acc: 0.6660 - val_loss: 1.0813 - val_acc: 0.7610\n",
      "Epoch 2/20\n",
      "7982/7982 [==============================] - 1s 163us/step - loss: 0.7711 - acc: 0.8296 - val_loss: 0.9412 - val_acc: 0.8110\n",
      "Epoch 3/20\n",
      "7982/7982 [==============================] - 1s 164us/step - loss: 0.4624 - acc: 0.8989 - val_loss: 0.8272 - val_acc: 0.8280\n",
      "Epoch 4/20\n",
      "7982/7982 [==============================] - 1s 165us/step - loss: 0.2983 - acc: 0.9341 - val_loss: 0.9672 - val_acc: 0.8020\n",
      "Epoch 5/20\n",
      "7982/7982 [==============================] - 1s 165us/step - loss: 0.2271 - acc: 0.9439 - val_loss: 0.9536 - val_acc: 0.8070\n",
      "Epoch 6/20\n",
      "7982/7982 [==============================] - 1s 163us/step - loss: 0.1881 - acc: 0.9513 - val_loss: 0.9120 - val_acc: 0.8210\n",
      "Epoch 7/20\n",
      "7982/7982 [==============================] - 1s 164us/step - loss: 0.1681 - acc: 0.9548 - val_loss: 0.9235 - val_acc: 0.8200\n",
      "Epoch 8/20\n",
      "7982/7982 [==============================] - 1s 166us/step - loss: 0.1516 - acc: 0.9525 - val_loss: 0.9638 - val_acc: 0.8140\n",
      "Epoch 9/20\n",
      "7982/7982 [==============================] - 1s 167us/step - loss: 0.1361 - acc: 0.9550 - val_loss: 1.2278 - val_acc: 0.7760\n",
      "Epoch 10/20\n",
      "7982/7982 [==============================] - 1s 166us/step - loss: 0.1307 - acc: 0.9539 - val_loss: 1.0836 - val_acc: 0.8020\n",
      "Epoch 11/20\n",
      "7982/7982 [==============================] - 1s 166us/step - loss: 0.1199 - acc: 0.9573 - val_loss: 1.0931 - val_acc: 0.8070\n",
      "Epoch 12/20\n",
      "7982/7982 [==============================] - 1s 165us/step - loss: 0.1156 - acc: 0.9558 - val_loss: 1.0533 - val_acc: 0.8100\n",
      "Epoch 13/20\n",
      "7982/7982 [==============================] - 1s 165us/step - loss: 0.1104 - acc: 0.9560 - val_loss: 1.1213 - val_acc: 0.8050\n",
      "Epoch 14/20\n",
      "7982/7982 [==============================] - 1s 163us/step - loss: 0.1043 - acc: 0.9551 - val_loss: 1.1477 - val_acc: 0.8100\n",
      "Epoch 15/20\n",
      "7982/7982 [==============================] - 1s 165us/step - loss: 0.1000 - acc: 0.9578 - val_loss: 1.2136 - val_acc: 0.8060\n",
      "Epoch 16/20\n",
      "7982/7982 [==============================] - 1s 164us/step - loss: 0.0956 - acc: 0.9577 - val_loss: 1.2869 - val_acc: 0.8020\n",
      "Epoch 17/20\n",
      "7982/7982 [==============================] - 1s 164us/step - loss: 0.0935 - acc: 0.9567 - val_loss: 1.3409 - val_acc: 0.7970\n",
      "Epoch 18/20\n",
      "7982/7982 [==============================] - 1s 165us/step - loss: 0.0918 - acc: 0.9574 - val_loss: 1.3135 - val_acc: 0.8010\n",
      "Epoch 19/20\n",
      "7982/7982 [==============================] - 1s 164us/step - loss: 0.0875 - acc: 0.9563 - val_loss: 1.3922 - val_acc: 0.7910\n",
      "Epoch 20/20\n",
      "7982/7982 [==============================] - 1s 165us/step - loss: 0.0841 - acc: 0.9567 - val_loss: 1.4136 - val_acc: 0.7940\n"
     ]
    },
    {
     "data": {
      "text/plain": [
       "<keras.callbacks.History at 0xb76abc828>"
      ]
     },
     "execution_count": 37,
     "metadata": {},
     "output_type": "execute_result"
    }
   ],
   "source": [
    "model = models.Sequential()\n",
    "model.add(layers.Dense(128, activation='relu', input_shape=(10000,)))\n",
    "model.add(layers.Dense(128, activation='relu'))\n",
    "model.add(layers.Dense(46, activation='softmax'))\n",
    "\n",
    "model.compile(optimizer='rmsprop',\n",
    "              loss='categorical_crossentropy',\n",
    "              metrics=['accuracy'])\n",
    "model.fit(partial_x_train,\n",
    "          partial_y_train,\n",
    "          epochs=20,\n",
    "          batch_size=128,\n",
    "          validation_data=(x_val, y_val))"
   ]
  },
  {
   "cell_type": "code",
   "execution_count": 38,
   "metadata": {},
   "outputs": [
    {
     "name": "stdout",
     "output_type": "stream",
     "text": [
      "Train on 7982 samples, validate on 1000 samples\n",
      "Epoch 1/20\n",
      "7982/7982 [==============================] - 1s 139us/step - loss: 1.8237 - acc: 0.6368 - val_loss: 1.2089 - val_acc: 0.7240\n",
      "Epoch 2/20\n",
      "7982/7982 [==============================] - 1s 105us/step - loss: 0.9351 - acc: 0.8013 - val_loss: 0.9629 - val_acc: 0.8060\n",
      "Epoch 3/20\n",
      "7982/7982 [==============================] - 1s 106us/step - loss: 0.6370 - acc: 0.8702 - val_loss: 0.8665 - val_acc: 0.8190\n",
      "Epoch 4/20\n",
      "7982/7982 [==============================] - 1s 106us/step - loss: 0.4533 - acc: 0.9048 - val_loss: 0.8243 - val_acc: 0.8310\n",
      "Epoch 5/20\n",
      "7982/7982 [==============================] - 1s 106us/step - loss: 0.3372 - acc: 0.9268 - val_loss: 0.8115 - val_acc: 0.8280\n",
      "Epoch 6/20\n",
      "7982/7982 [==============================] - 1s 105us/step - loss: 0.2627 - acc: 0.9411 - val_loss: 0.8147 - val_acc: 0.8350\n",
      "Epoch 7/20\n",
      "7982/7982 [==============================] - 1s 104us/step - loss: 0.2156 - acc: 0.9489 - val_loss: 0.8712 - val_acc: 0.8260\n",
      "Epoch 8/20\n",
      "7982/7982 [==============================] - 1s 104us/step - loss: 0.1837 - acc: 0.9516 - val_loss: 0.8483 - val_acc: 0.8320\n",
      "Epoch 9/20\n",
      "7982/7982 [==============================] - 1s 105us/step - loss: 0.1618 - acc: 0.9539 - val_loss: 0.8740 - val_acc: 0.8280\n",
      "Epoch 10/20\n",
      "7982/7982 [==============================] - 1s 106us/step - loss: 0.1455 - acc: 0.9559 - val_loss: 0.9174 - val_acc: 0.8220\n",
      "Epoch 11/20\n",
      "7982/7982 [==============================] - 1s 106us/step - loss: 0.1359 - acc: 0.9555 - val_loss: 0.9547 - val_acc: 0.8130\n",
      "Epoch 12/20\n",
      "7982/7982 [==============================] - 1s 104us/step - loss: 0.1268 - acc: 0.9568 - val_loss: 0.9649 - val_acc: 0.8130\n",
      "Epoch 13/20\n",
      "7982/7982 [==============================] - 1s 105us/step - loss: 0.1226 - acc: 0.9573 - val_loss: 0.9904 - val_acc: 0.8170\n",
      "Epoch 14/20\n",
      "7982/7982 [==============================] - 1s 106us/step - loss: 0.1150 - acc: 0.9567 - val_loss: 0.9960 - val_acc: 0.8190\n",
      "Epoch 15/20\n",
      "7982/7982 [==============================] - 1s 107us/step - loss: 0.1139 - acc: 0.9560 - val_loss: 0.9994 - val_acc: 0.8160\n",
      "Epoch 16/20\n",
      "7982/7982 [==============================] - 1s 106us/step - loss: 0.1136 - acc: 0.9565 - val_loss: 1.0482 - val_acc: 0.8110\n",
      "Epoch 17/20\n",
      "7982/7982 [==============================] - 1s 104us/step - loss: 0.1101 - acc: 0.9573 - val_loss: 1.0719 - val_acc: 0.8080\n",
      "Epoch 18/20\n",
      "7982/7982 [==============================] - 1s 104us/step - loss: 0.1065 - acc: 0.9563 - val_loss: 1.1063 - val_acc: 0.8050\n",
      "Epoch 19/20\n",
      "7982/7982 [==============================] - 1s 105us/step - loss: 0.1052 - acc: 0.9583 - val_loss: 1.0978 - val_acc: 0.8060\n",
      "Epoch 20/20\n",
      "7982/7982 [==============================] - 1s 104us/step - loss: 0.1010 - acc: 0.9564 - val_loss: 1.1476 - val_acc: 0.8050\n"
     ]
    },
    {
     "data": {
      "text/plain": [
       "<keras.callbacks.History at 0xb6c86d4a8>"
      ]
     },
     "execution_count": 38,
     "metadata": {},
     "output_type": "execute_result"
    }
   ],
   "source": [
    "model = models.Sequential()\n",
    "model.add(layers.Dense(64, activation='relu', input_shape=(10000,)))\n",
    "model.add(layers.Dense(46, activation='softmax'))\n",
    "\n",
    "model.compile(optimizer='rmsprop',\n",
    "              loss='categorical_crossentropy',\n",
    "              metrics=['accuracy'])\n",
    "model.fit(partial_x_train,\n",
    "          partial_y_train,\n",
    "          epochs=20,\n",
    "          batch_size=128,\n",
    "          validation_data=(x_val, y_val))"
   ]
  },
  {
   "cell_type": "code",
   "execution_count": 39,
   "metadata": {},
   "outputs": [
    {
     "name": "stdout",
     "output_type": "stream",
     "text": [
      "Train on 7982 samples, validate on 1000 samples\n",
      "Epoch 1/9\n",
      "7982/7982 [==============================] - 1s 154us/step - loss: 1.8562 - acc: 0.6254 - val_loss: 1.2617 - val_acc: 0.7090\n",
      "Epoch 2/9\n",
      "7982/7982 [==============================] - 1s 107us/step - loss: 0.9897 - acc: 0.7744 - val_loss: 1.0590 - val_acc: 0.7550\n",
      "Epoch 3/9\n",
      "7982/7982 [==============================] - 1s 106us/step - loss: 0.6725 - acc: 0.8514 - val_loss: 1.0297 - val_acc: 0.7750\n",
      "Epoch 4/9\n",
      "7982/7982 [==============================] - 1s 107us/step - loss: 0.4602 - acc: 0.9008 - val_loss: 0.9321 - val_acc: 0.8020\n",
      "Epoch 5/9\n",
      "7982/7982 [==============================] - 1s 108us/step - loss: 0.3343 - acc: 0.9268 - val_loss: 1.0353 - val_acc: 0.7950\n",
      "Epoch 6/9\n",
      "7982/7982 [==============================] - 1s 108us/step - loss: 0.2598 - acc: 0.9421 - val_loss: 1.2146 - val_acc: 0.7780\n",
      "Epoch 7/9\n",
      "7982/7982 [==============================] - 1s 107us/step - loss: 0.2162 - acc: 0.9483 - val_loss: 1.1791 - val_acc: 0.7700\n",
      "Epoch 8/9\n",
      "7982/7982 [==============================] - 1s 107us/step - loss: 0.1873 - acc: 0.9495 - val_loss: 1.0512 - val_acc: 0.8070\n",
      "Epoch 9/9\n",
      "7982/7982 [==============================] - 1s 107us/step - loss: 0.1740 - acc: 0.9530 - val_loss: 1.0679 - val_acc: 0.8010\n"
     ]
    },
    {
     "data": {
      "text/plain": [
       "<keras.callbacks.History at 0xb346dcd30>"
      ]
     },
     "execution_count": 39,
     "metadata": {},
     "output_type": "execute_result"
    }
   ],
   "source": [
    "model = models.Sequential()\n",
    "model.add(layers.Dense(64, activation='relu', input_shape=(10000,)))\n",
    "model.add(layers.Dense(64, activation='relu'))\n",
    "model.add(layers.Dense(64, activation='relu'))\n",
    "model.add(layers.Dense(46, activation='softmax'))\n",
    "\n",
    "model.compile(optimizer='rmsprop',\n",
    "              loss='categorical_crossentropy',\n",
    "              metrics=['accuracy'])\n",
    "model.fit(partial_x_train,\n",
    "          partial_y_train,\n",
    "          epochs=9,\n",
    "          batch_size=128,\n",
    "          validation_data=(x_val, y_val))"
   ]
  },
  {
   "cell_type": "code",
   "execution_count": null,
   "metadata": {},
   "outputs": [],
   "source": []
  }
 ],
 "metadata": {
  "kernelspec": {
   "display_name": "Python 3",
   "language": "python",
   "name": "python3"
  },
  "language_info": {
   "codemirror_mode": {
    "name": "ipython",
    "version": 3
   },
   "file_extension": ".py",
   "mimetype": "text/x-python",
   "name": "python",
   "nbconvert_exporter": "python",
   "pygments_lexer": "ipython3",
   "version": "3.7.1"
  }
 },
 "nbformat": 4,
 "nbformat_minor": 2
}
