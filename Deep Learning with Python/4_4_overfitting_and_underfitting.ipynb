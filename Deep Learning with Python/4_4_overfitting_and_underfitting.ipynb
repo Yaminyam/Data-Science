{
  "nbformat": 4,
  "nbformat_minor": 0,
  "metadata": {
    "colab": {
      "name": "4.4-overfitting-and-underfitting.ipynb",
      "version": "0.3.2",
      "provenance": [],
      "include_colab_link": true
    },
    "kernelspec": {
      "name": "python3",
      "display_name": "Python 3"
    }
  },
  "cells": [
    {
      "cell_type": "markdown",
      "metadata": {
        "id": "view-in-github",
        "colab_type": "text"
      },
      "source": [
        "<a href=\"https://colab.research.google.com/github/siontama/Data-Science/blob/master/Deep%20Learning%20with%20Python/4_4_overfitting_and_underfitting.ipynb\" target=\"_parent\"><img src=\"https://colab.research.google.com/assets/colab-badge.svg\" alt=\"Open In Colab\"/></a>"
      ]
    },
    {
      "metadata": {
        "id": "P628j2kyKh8V",
        "colab_type": "code",
        "colab": {
          "base_uri": "https://localhost:8080/",
          "height": 35
        },
        "outputId": "d8618fad-5901-40e6-a869-74490b3de4c9"
      },
      "cell_type": "code",
      "source": [
        "from keras.datasets import imdb\n",
        "import numpy as np\n",
        "\n",
        "(train_data, train_labels), (test_data, test_labels) = imdb.load_data(num_words=10000)\n",
        "\n",
        "def vectorize_sequences(sequences, dimension=10000):\n",
        "  results = np.zeros((len(sequences), dimension))\n",
        "  for i, sequence in enumerate(sequences):\n",
        "    results[i, sequence] = 1.\n",
        "  return results\n",
        "  \n",
        "x_train = vectorize_sequences(train_data)\n",
        "x_test = vectorize_sequences(test_data)\n",
        "y_train = np.asarray(train_labels).astype('float32')\n",
        "y_test = np.asarray(test_labels).astype('float32')"
      ],
      "execution_count": 1,
      "outputs": [
        {
          "output_type": "stream",
          "text": [
            "Using TensorFlow backend.\n"
          ],
          "name": "stderr"
        }
      ]
    },
    {
      "metadata": {
        "id": "OR5KViek9tmR",
        "colab_type": "code",
        "colab": {
          "base_uri": "https://localhost:8080/",
          "height": 91
        },
        "outputId": "52b139e3-94d7-4e95-a73b-185020316091"
      },
      "cell_type": "code",
      "source": [
        "from keras import models\n",
        "from keras import layers\n",
        "\n",
        "model = models.Sequential()\n",
        "model.add(layers.Dense(16, activation='relu', input_shape=(10000,)))\n",
        "model.add(layers.Dense(16, activation='relu'))\n",
        "model.add(layers.Dense(1, activation='sigmoid'))\n",
        "\n",
        "model.compile(optimizer='rmsprop',\n",
        "              loss='binary_crossentropy',\n",
        "              metrics=['acc'])"
      ],
      "execution_count": 2,
      "outputs": [
        {
          "output_type": "stream",
          "text": [
            "WARNING:tensorflow:From /usr/local/lib/python3.6/dist-packages/tensorflow/python/framework/op_def_library.py:263: colocate_with (from tensorflow.python.framework.ops) is deprecated and will be removed in a future version.\n",
            "Instructions for updating:\n",
            "Colocations handled automatically by placer.\n"
          ],
          "name": "stdout"
        }
      ]
    },
    {
      "metadata": {
        "id": "AdGvEuIfA4sm",
        "colab_type": "code",
        "colab": {}
      },
      "cell_type": "code",
      "source": [
        "smaller_model = models.Sequential()\n",
        "smaller_model.add(layers.Dense(6, activation='relu', input_shape=(10000,)))\n",
        "smaller_model.add(layers.Dense(6, activation='relu'))\n",
        "smaller_model.add(layers.Dense(1, activation='sigmoid'))\n",
        "\n",
        "smaller_model.compile(optimizer='rmsprop',\n",
        "                      loss='binary_crossentropy',\n",
        "                      metrics=['acc'])"
      ],
      "execution_count": 0,
      "outputs": []
    },
    {
      "metadata": {
        "id": "Co_ZpWabLeS6",
        "colab_type": "code",
        "colab": {
          "base_uri": "https://localhost:8080/",
          "height": 829
        },
        "outputId": "932345c4-72d9-4891-ce78-3889f61d7a29"
      },
      "cell_type": "code",
      "source": [
        "original_hist = model.fit(x_train, y_train,\n",
        "                          epochs=20,\n",
        "                          batch_size=512,\n",
        "                          validation_data=(x_test, y_test))"
      ],
      "execution_count": 4,
      "outputs": [
        {
          "output_type": "stream",
          "text": [
            "WARNING:tensorflow:From /usr/local/lib/python3.6/dist-packages/tensorflow/python/ops/math_ops.py:3066: to_int32 (from tensorflow.python.ops.math_ops) is deprecated and will be removed in a future version.\n",
            "Instructions for updating:\n",
            "Use tf.cast instead.\n",
            "Train on 25000 samples, validate on 25000 samples\n",
            "Epoch 1/20\n",
            "25000/25000 [==============================] - 5s 214us/step - loss: 0.4439 - acc: 0.8243 - val_loss: 0.3289 - val_acc: 0.8845\n",
            "Epoch 2/20\n",
            "25000/25000 [==============================] - 5s 200us/step - loss: 0.2575 - acc: 0.9080 - val_loss: 0.2862 - val_acc: 0.8885\n",
            "Epoch 3/20\n",
            "25000/25000 [==============================] - 5s 200us/step - loss: 0.1991 - acc: 0.9288 - val_loss: 0.2822 - val_acc: 0.8885\n",
            "Epoch 4/20\n",
            "25000/25000 [==============================] - 5s 201us/step - loss: 0.1662 - acc: 0.9419 - val_loss: 0.2941 - val_acc: 0.8841\n",
            "Epoch 5/20\n",
            "25000/25000 [==============================] - 5s 202us/step - loss: 0.1423 - acc: 0.9506 - val_loss: 0.3122 - val_acc: 0.8805\n",
            "Epoch 6/20\n",
            "25000/25000 [==============================] - 5s 201us/step - loss: 0.1243 - acc: 0.9563 - val_loss: 0.3517 - val_acc: 0.8720\n",
            "Epoch 7/20\n",
            "25000/25000 [==============================] - 5s 201us/step - loss: 0.1083 - acc: 0.9626 - val_loss: 0.3614 - val_acc: 0.8721\n",
            "Epoch 8/20\n",
            "25000/25000 [==============================] - 5s 202us/step - loss: 0.0955 - acc: 0.9684 - val_loss: 0.3951 - val_acc: 0.8677\n",
            "Epoch 9/20\n",
            "25000/25000 [==============================] - 5s 201us/step - loss: 0.0823 - acc: 0.9726 - val_loss: 0.4307 - val_acc: 0.8620\n",
            "Epoch 10/20\n",
            "25000/25000 [==============================] - 5s 202us/step - loss: 0.0717 - acc: 0.9778 - val_loss: 0.4963 - val_acc: 0.8547\n",
            "Epoch 11/20\n",
            "25000/25000 [==============================] - 5s 202us/step - loss: 0.0654 - acc: 0.9789 - val_loss: 0.4852 - val_acc: 0.8608\n",
            "Epoch 12/20\n",
            "25000/25000 [==============================] - 5s 200us/step - loss: 0.0529 - acc: 0.9842 - val_loss: 0.5277 - val_acc: 0.8574\n",
            "Epoch 13/20\n",
            "25000/25000 [==============================] - 5s 200us/step - loss: 0.0476 - acc: 0.9859 - val_loss: 0.5353 - val_acc: 0.8584\n",
            "Epoch 14/20\n",
            "25000/25000 [==============================] - 5s 202us/step - loss: 0.0385 - acc: 0.9896 - val_loss: 0.6242 - val_acc: 0.8489\n",
            "Epoch 15/20\n",
            "25000/25000 [==============================] - 5s 199us/step - loss: 0.0353 - acc: 0.9898 - val_loss: 0.6053 - val_acc: 0.8552\n",
            "Epoch 16/20\n",
            "25000/25000 [==============================] - 5s 200us/step - loss: 0.0259 - acc: 0.9936 - val_loss: 0.6748 - val_acc: 0.8491\n",
            "Epoch 17/20\n",
            "25000/25000 [==============================] - 5s 201us/step - loss: 0.0227 - acc: 0.9946 - val_loss: 0.6860 - val_acc: 0.8531\n",
            "Epoch 18/20\n",
            "25000/25000 [==============================] - 5s 200us/step - loss: 0.0170 - acc: 0.9962 - val_loss: 0.7320 - val_acc: 0.8510\n",
            "Epoch 19/20\n",
            "25000/25000 [==============================] - 5s 201us/step - loss: 0.0184 - acc: 0.9949 - val_loss: 0.7528 - val_acc: 0.8511\n",
            "Epoch 20/20\n",
            "25000/25000 [==============================] - 5s 201us/step - loss: 0.0115 - acc: 0.9971 - val_loss: 0.8224 - val_acc: 0.8471\n"
          ],
          "name": "stdout"
        }
      ]
    },
    {
      "metadata": {
        "id": "qjKV_b62Mxld",
        "colab_type": "code",
        "colab": {
          "base_uri": "https://localhost:8080/",
          "height": 775
        },
        "outputId": "0efebab5-02c9-49d5-e93a-89e7c537a9c1"
      },
      "cell_type": "code",
      "source": [
        "smaller_model_hist = smaller_model.fit(x_train, y_train,\n",
        "                                       epochs=20,\n",
        "                                       batch_size=512,\n",
        "                                       validation_data=(x_test, y_test))"
      ],
      "execution_count": 5,
      "outputs": [
        {
          "output_type": "stream",
          "text": [
            "Train on 25000 samples, validate on 25000 samples\n",
            "Epoch 1/20\n",
            "25000/25000 [==============================] - 5s 194us/step - loss: 0.5658 - acc: 0.7403 - val_loss: 0.4804 - val_acc: 0.8310\n",
            "Epoch 2/20\n",
            "25000/25000 [==============================] - 5s 185us/step - loss: 0.3872 - acc: 0.8898 - val_loss: 0.3570 - val_acc: 0.8790\n",
            "Epoch 3/20\n",
            "25000/25000 [==============================] - 5s 184us/step - loss: 0.2762 - acc: 0.9177 - val_loss: 0.3006 - val_acc: 0.8876\n",
            "Epoch 4/20\n",
            "25000/25000 [==============================] - 5s 185us/step - loss: 0.2208 - acc: 0.9282 - val_loss: 0.2830 - val_acc: 0.8892\n",
            "Epoch 5/20\n",
            "25000/25000 [==============================] - 5s 185us/step - loss: 0.1886 - acc: 0.9368 - val_loss: 0.2815 - val_acc: 0.8868\n",
            "Epoch 6/20\n",
            "25000/25000 [==============================] - 5s 184us/step - loss: 0.1664 - acc: 0.9443 - val_loss: 0.2855 - val_acc: 0.8854\n",
            "Epoch 7/20\n",
            "25000/25000 [==============================] - 5s 183us/step - loss: 0.1487 - acc: 0.9510 - val_loss: 0.2948 - val_acc: 0.8825\n",
            "Epoch 8/20\n",
            "25000/25000 [==============================] - 5s 184us/step - loss: 0.1355 - acc: 0.9551 - val_loss: 0.3060 - val_acc: 0.8799\n",
            "Epoch 9/20\n",
            "25000/25000 [==============================] - 5s 200us/step - loss: 0.1225 - acc: 0.9611 - val_loss: 0.3199 - val_acc: 0.8776\n",
            "Epoch 10/20\n",
            "25000/25000 [==============================] - 5s 185us/step - loss: 0.1128 - acc: 0.9637 - val_loss: 0.3332 - val_acc: 0.8753\n",
            "Epoch 11/20\n",
            "25000/25000 [==============================] - 5s 187us/step - loss: 0.1024 - acc: 0.9678 - val_loss: 0.3507 - val_acc: 0.8717\n",
            "Epoch 12/20\n",
            "25000/25000 [==============================] - 5s 186us/step - loss: 0.0938 - acc: 0.9716 - val_loss: 0.3752 - val_acc: 0.8697\n",
            "Epoch 13/20\n",
            "25000/25000 [==============================] - 5s 186us/step - loss: 0.0858 - acc: 0.9744 - val_loss: 0.3852 - val_acc: 0.8678\n",
            "Epoch 14/20\n",
            "25000/25000 [==============================] - 5s 185us/step - loss: 0.0789 - acc: 0.9754 - val_loss: 0.4063 - val_acc: 0.8648\n",
            "Epoch 15/20\n",
            "25000/25000 [==============================] - 5s 184us/step - loss: 0.0723 - acc: 0.9787 - val_loss: 0.4293 - val_acc: 0.8630\n",
            "Epoch 16/20\n",
            "25000/25000 [==============================] - 5s 185us/step - loss: 0.0655 - acc: 0.9812 - val_loss: 0.4515 - val_acc: 0.8616\n",
            "Epoch 17/20\n",
            "25000/25000 [==============================] - 5s 181us/step - loss: 0.0603 - acc: 0.9830 - val_loss: 0.4673 - val_acc: 0.8608\n",
            "Epoch 18/20\n",
            "25000/25000 [==============================] - 5s 182us/step - loss: 0.0550 - acc: 0.9853 - val_loss: 0.5042 - val_acc: 0.8570\n",
            "Epoch 19/20\n",
            "25000/25000 [==============================] - 5s 184us/step - loss: 0.0504 - acc: 0.9864 - val_loss: 0.5123 - val_acc: 0.8582\n",
            "Epoch 20/20\n",
            "25000/25000 [==============================] - 5s 184us/step - loss: 0.0455 - acc: 0.9886 - val_loss: 0.5511 - val_acc: 0.8536\n"
          ],
          "name": "stdout"
        }
      ]
    },
    {
      "metadata": {
        "id": "J8fLhBWxPNZz",
        "colab_type": "code",
        "colab": {}
      },
      "cell_type": "code",
      "source": [
        "epochs = range(1, 21)\n",
        "original_val_loss = original_hist.history['val_loss']\n",
        "smaller_model_val_loss = smaller_model_hist.history['val_loss']"
      ],
      "execution_count": 0,
      "outputs": []
    },
    {
      "metadata": {
        "id": "b_xPALiJPjoE",
        "colab_type": "code",
        "colab": {}
      },
      "cell_type": "code",
      "source": [
        "import matplotlib.pyplot as plt"
      ],
      "execution_count": 0,
      "outputs": []
    },
    {
      "metadata": {
        "id": "98IFLvAZPmR2",
        "colab_type": "code",
        "colab": {
          "base_uri": "https://localhost:8080/",
          "height": 361
        },
        "outputId": "219c5d24-66f2-47c8-b701-d290acbd1dc2"
      },
      "cell_type": "code",
      "source": [
        "\n",
        "# ‘b+’는 파란색 덧셈 기호을 의미합니다\n",
        "plt.plot(epochs, original_val_loss, 'ro', label='Original model')\n",
        "# ‘bo’는 파란색 점을 의미합니다\n",
        "plt.plot(epochs, smaller_model_val_loss, 'bo', label='Smaller model')\n",
        "plt.xlabel('Epochs')\n",
        "plt.ylabel('Validation loss')\n",
        "plt.legend()\n",
        "\n",
        "plt.show()"
      ],
      "execution_count": 10,
      "outputs": [
        {
          "output_type": "display_data",
          "data": {
            "image/png": "[encoded data removed]",
            "text/plain": [
              "<Figure size 576x396 with 1 Axes>"
            ]
          },
          "metadata": {
            "tags": []
          }
        }
      ]
    },
    {
      "metadata": {
        "id": "kJEYuVwNP4AN",
        "colab_type": "code",
        "colab": {}
      },
      "cell_type": "code",
      "source": [
        "bigger_model = models.Sequential()\n",
        "bigger_model.add(layers.Dense(1024, activation='relu', input_shape=(10000,)))\n",
        "bigger_model.add(layers.Dense(1024, activation='relu'))\n",
        "bigger_model.add(layers.Dense(1, activation='sigmoid'))\n",
        "\n",
        "bigger_model.compile(optimizer='rmsprop',\n",
        "                     loss='binary_crossentropy',\n",
        "                     metrics=['acc'])"
      ],
      "execution_count": 0,
      "outputs": []
    },
    {
      "metadata": {
        "id": "EraqQnNOVN1-",
        "colab_type": "code",
        "colab": {
          "base_uri": "https://localhost:8080/",
          "height": 775
        },
        "outputId": "b0b0d8e5-7cff-433c-ccea-6151ec28f0a9"
      },
      "cell_type": "code",
      "source": [
        "bigger_model_hist = bigger_model.fit(x_train, y_train,\n",
        "                                     epochs=20,\n",
        "                                     batch_size=512,\n",
        "                                     validation_data=(x_test, y_test))"
      ],
      "execution_count": 15,
      "outputs": [
        {
          "output_type": "stream",
          "text": [
            "Train on 25000 samples, validate on 25000 samples\n",
            "Epoch 1/20\n",
            "25000/25000 [==============================] - 43s 2ms/step - loss: 0.5179 - acc: 0.7894 - val_loss: 0.3159 - val_acc: 0.8689\n",
            "Epoch 2/20\n",
            "25000/25000 [==============================] - 40s 2ms/step - loss: 0.2214 - acc: 0.9122 - val_loss: 0.2861 - val_acc: 0.8870\n",
            "Epoch 3/20\n",
            "25000/25000 [==============================] - 40s 2ms/step - loss: 0.1137 - acc: 0.9566 - val_loss: 0.3469 - val_acc: 0.8832\n",
            "Epoch 4/20\n",
            "25000/25000 [==============================] - 40s 2ms/step - loss: 0.0588 - acc: 0.9813 - val_loss: 0.4311 - val_acc: 0.8807\n",
            "Epoch 5/20\n",
            "25000/25000 [==============================] - 40s 2ms/step - loss: 0.0684 - acc: 0.9886 - val_loss: 0.4543 - val_acc: 0.8794\n",
            "Epoch 6/20\n",
            "25000/25000 [==============================] - 41s 2ms/step - loss: 0.0019 - acc: 0.9998 - val_loss: 0.6439 - val_acc: 0.8771\n",
            "Epoch 7/20\n",
            "25000/25000 [==============================] - 41s 2ms/step - loss: 0.1018 - acc: 0.9865 - val_loss: 0.6361 - val_acc: 0.8816\n",
            "Epoch 8/20\n",
            "25000/25000 [==============================] - 41s 2ms/step - loss: 9.5133e-05 - acc: 1.0000 - val_loss: 0.7297 - val_acc: 0.8825\n",
            "Epoch 9/20\n",
            "25000/25000 [==============================] - 40s 2ms/step - loss: 1.0478e-05 - acc: 1.0000 - val_loss: 0.8030 - val_acc: 0.8825\n",
            "Epoch 10/20\n",
            "25000/25000 [==============================] - 40s 2ms/step - loss: 1.7675e-06 - acc: 1.0000 - val_loss: 0.8866 - val_acc: 0.8819\n",
            "Epoch 11/20\n",
            "25000/25000 [==============================] - 40s 2ms/step - loss: 3.2964e-07 - acc: 1.0000 - val_loss: 0.9390 - val_acc: 0.8818\n",
            "Epoch 12/20\n",
            "25000/25000 [==============================] - 40s 2ms/step - loss: 1.5062e-07 - acc: 1.0000 - val_loss: 0.9915 - val_acc: 0.8824\n",
            "Epoch 13/20\n",
            "25000/25000 [==============================] - 40s 2ms/step - loss: 1.2075e-07 - acc: 1.0000 - val_loss: 1.0128 - val_acc: 0.8826\n",
            "Epoch 14/20\n",
            "25000/25000 [==============================] - 40s 2ms/step - loss: 1.1458e-07 - acc: 1.0000 - val_loss: 1.0248 - val_acc: 0.8826\n",
            "Epoch 15/20\n",
            "25000/25000 [==============================] - 40s 2ms/step - loss: 1.1260e-07 - acc: 1.0000 - val_loss: 1.0327 - val_acc: 0.8827\n",
            "Epoch 16/20\n",
            "25000/25000 [==============================] - 41s 2ms/step - loss: 1.1146e-07 - acc: 1.0000 - val_loss: 1.0385 - val_acc: 0.8827\n",
            "Epoch 17/20\n",
            "25000/25000 [==============================] - 40s 2ms/step - loss: 1.1098e-07 - acc: 1.0000 - val_loss: 1.0430 - val_acc: 0.8827\n",
            "Epoch 18/20\n",
            "25000/25000 [==============================] - 40s 2ms/step - loss: 1.1067e-07 - acc: 1.0000 - val_loss: 1.0468 - val_acc: 0.8827\n",
            "Epoch 19/20\n",
            "25000/25000 [==============================] - 40s 2ms/step - loss: 1.1041e-07 - acc: 1.0000 - val_loss: 1.0503 - val_acc: 0.8827\n",
            "Epoch 20/20\n",
            "25000/25000 [==============================] - 42s 2ms/step - loss: 1.1024e-07 - acc: 1.0000 - val_loss: 1.0530 - val_acc: 0.8828\n"
          ],
          "name": "stdout"
        }
      ]
    },
    {
      "metadata": {
        "id": "gy_NNPIQWKDO",
        "colab_type": "code",
        "colab": {
          "base_uri": "https://localhost:8080/",
          "height": 361
        },
        "outputId": "5c74fe34-4dae-4691-9232-a3efd5efe27c"
      },
      "cell_type": "code",
      "source": [
        "bigger_model_val_loss = bigger_model_hist.history['val_loss']\n",
        "\n",
        "plt.plot(epochs, original_val_loss, 'ro', label='Original model')\n",
        "plt.plot(epochs, bigger_model_val_loss, 'bo', label='Bigger model')\n",
        "plt.xlabel('Eopchs')\n",
        "plt.ylabel('Validation loss')\n",
        "plt.legend()\n",
        "\n",
        "plt.show()"
      ],
      "execution_count": 17,
      "outputs": [
        {
          "output_type": "display_data",
          "data": {
            "image/png": "[encoded data removed]",
            "text/plain": [
              "<Figure size 576x396 with 1 Axes>"
            ]
          },
          "metadata": {
            "tags": []
          }
        }
      ]
    },
    {
      "metadata": {
        "id": "eg2KJYgeZ1AE",
        "colab_type": "code",
        "colab": {
          "base_uri": "https://localhost:8080/",
          "height": 361
        },
        "outputId": "bd2b8ef6-2e8e-45e1-8029-b1cf1b515466"
      },
      "cell_type": "code",
      "source": [
        "original_train_loss = original_hist.history['loss']\n",
        "bigger_model_train_loss = bigger_model_hist.history['loss']\n",
        "\n",
        "plt.plot(epochs, original_train_loss, 'ro', label='Original model')\n",
        "plt.plot(epochs, bigger_model_train_loss, 'bo', label='Bigger model')\n",
        "plt.xlabel('Epochs')\n",
        "plt.ylabel('Training loss')\n",
        "plt.legend()\n",
        "\n",
        "plt.show()"
      ],
      "execution_count": 18,
      "outputs": [
        {
          "output_type": "display_data",
          "data": {
            "image/png": "[encoded data removed]",
            "text/plain": [
              "<Figure size 576x396 with 1 Axes>"
            ]
          },
          "metadata": {
            "tags": []
          }
        }
      ]
    },
    {
      "metadata": {
        "id": "Yp6SSwAHagVm",
        "colab_type": "code",
        "colab": {}
      },
      "cell_type": "code",
      "source": [
        "from keras import regularizers\n",
        "\n",
        "l2_model = models.Sequential()\n",
        "l2_model.add(layers.Dense(16, kernel_regularizer=regularizers.l2(0.001),\n",
        "                          activation='relu', input_shape=(10000,)))\n",
        "l2_model.add(layers.Dense(16, kernel_regularizer=regularizers.l2(0.0001),\n",
        "                          activation='relu'))\n",
        "l2_model.add(layers.Dense(1, activation='sigmoid'))"
      ],
      "execution_count": 0,
      "outputs": []
    },
    {
      "metadata": {
        "id": "OYoGzsIGbOg5",
        "colab_type": "code",
        "colab": {}
      },
      "cell_type": "code",
      "source": [
        "l2_model.compile(optimizer='rmsprop',\n",
        "                 loss='binary_crossentropy',\n",
        "                 metrics=['acc'])"
      ],
      "execution_count": 0,
      "outputs": []
    },
    {
      "metadata": {
        "id": "wk5aMxGebVsa",
        "colab_type": "code",
        "colab": {
          "base_uri": "https://localhost:8080/",
          "height": 775
        },
        "outputId": "838c9ecb-9afc-44e5-89cd-fe5941bca1b4"
      },
      "cell_type": "code",
      "source": [
        "l2_model_hist = l2_model.fit(x_train, y_train,\n",
        "                             epochs=20,\n",
        "                             batch_size=512,\n",
        "                             validation_data=(x_test, y_test))"
      ],
      "execution_count": 21,
      "outputs": [
        {
          "output_type": "stream",
          "text": [
            "Train on 25000 samples, validate on 25000 samples\n",
            "Epoch 1/20\n",
            "25000/25000 [==============================] - 6s 247us/step - loss: 0.4721 - acc: 0.8162 - val_loss: 0.3731 - val_acc: 0.8660\n",
            "Epoch 2/20\n",
            "25000/25000 [==============================] - 5s 190us/step - loss: 0.2940 - acc: 0.9060 - val_loss: 0.3153 - val_acc: 0.8891\n",
            "Epoch 3/20\n",
            "25000/25000 [==============================] - 5s 190us/step - loss: 0.2488 - acc: 0.9211 - val_loss: 0.3161 - val_acc: 0.8866\n",
            "Epoch 4/20\n",
            "25000/25000 [==============================] - 5s 190us/step - loss: 0.2292 - acc: 0.9298 - val_loss: 0.3266 - val_acc: 0.8823\n",
            "Epoch 5/20\n",
            "25000/25000 [==============================] - 5s 189us/step - loss: 0.2152 - acc: 0.9358 - val_loss: 0.3698 - val_acc: 0.8678\n",
            "Epoch 6/20\n",
            "25000/25000 [==============================] - 5s 191us/step - loss: 0.2064 - acc: 0.9393 - val_loss: 0.3564 - val_acc: 0.8745\n",
            "Epoch 7/20\n",
            "25000/25000 [==============================] - 5s 190us/step - loss: 0.1992 - acc: 0.9421 - val_loss: 0.3699 - val_acc: 0.8710\n",
            "Epoch 8/20\n",
            "25000/25000 [==============================] - 5s 190us/step - loss: 0.1928 - acc: 0.9455 - val_loss: 0.3619 - val_acc: 0.8762\n",
            "Epoch 9/20\n",
            "25000/25000 [==============================] - 5s 188us/step - loss: 0.1858 - acc: 0.9477 - val_loss: 0.3663 - val_acc: 0.8753\n",
            "Epoch 10/20\n",
            "25000/25000 [==============================] - 5s 188us/step - loss: 0.1820 - acc: 0.9512 - val_loss: 0.3719 - val_acc: 0.8747\n",
            "Epoch 11/20\n",
            "25000/25000 [==============================] - 5s 188us/step - loss: 0.1759 - acc: 0.9510 - val_loss: 0.3744 - val_acc: 0.8756\n",
            "Epoch 12/20\n",
            "25000/25000 [==============================] - 5s 190us/step - loss: 0.1730 - acc: 0.9522 - val_loss: 0.3859 - val_acc: 0.8723\n",
            "Epoch 13/20\n",
            "25000/25000 [==============================] - 5s 188us/step - loss: 0.1679 - acc: 0.9544 - val_loss: 0.3895 - val_acc: 0.8725\n",
            "Epoch 14/20\n",
            "25000/25000 [==============================] - 5s 189us/step - loss: 0.1630 - acc: 0.9568 - val_loss: 0.4312 - val_acc: 0.8611\n",
            "Epoch 15/20\n",
            "25000/25000 [==============================] - 5s 190us/step - loss: 0.1631 - acc: 0.9574 - val_loss: 0.4287 - val_acc: 0.8623\n",
            "Epoch 16/20\n",
            "25000/25000 [==============================] - 5s 190us/step - loss: 0.1557 - acc: 0.9601 - val_loss: 0.4382 - val_acc: 0.8641\n",
            "Epoch 17/20\n",
            "25000/25000 [==============================] - 5s 188us/step - loss: 0.1526 - acc: 0.9609 - val_loss: 0.4138 - val_acc: 0.8698\n",
            "Epoch 18/20\n",
            "25000/25000 [==============================] - 5s 192us/step - loss: 0.1488 - acc: 0.9618 - val_loss: 0.4258 - val_acc: 0.8674\n",
            "Epoch 19/20\n",
            "25000/25000 [==============================] - 5s 191us/step - loss: 0.1467 - acc: 0.9627 - val_loss: 0.4611 - val_acc: 0.8592\n",
            "Epoch 20/20\n",
            "25000/25000 [==============================] - 5s 192us/step - loss: 0.1420 - acc: 0.9646 - val_loss: 0.4321 - val_acc: 0.8667\n"
          ],
          "name": "stdout"
        }
      ]
    },
    {
      "metadata": {
        "id": "BEJjNftCbp7A",
        "colab_type": "code",
        "colab": {
          "base_uri": "https://localhost:8080/",
          "height": 361
        },
        "outputId": "997c4f3f-c6f4-49a7-f1ef-cc407978d9f2"
      },
      "cell_type": "code",
      "source": [
        "l2_model_val_loss = l2_model_hist.history['val_loss']\n",
        "\n",
        "plt.plot(epochs, original_val_loss, 'ro', label='Original model')\n",
        "plt.plot(epochs, l2_model_val_loss, 'bo', label='L2-regularized model')\n",
        "plt.xlabel('Epochs')\n",
        "plt.ylabel('Validation loss')\n",
        "plt.legend()\n",
        "\n",
        "plt.show()"
      ],
      "execution_count": 22,
      "outputs": [
        {
          "output_type": "display_data",
          "data": {
            "image/png": "[encoded data removed]",
            "text/plain": [
              "<Figure size 576x396 with 1 Axes>"
            ]
          },
          "metadata": {
            "tags": []
          }
        }
      ]
    },
    {
      "metadata": {
        "id": "i8D4hgLGcvJ4",
        "colab_type": "code",
        "colab": {}
      },
      "cell_type": "code",
      "source": [
        "l1_model = models.Sequential()\n",
        "l1_model.add(layers.Dense(16, kernel_regularizer=regularizers.l1(0.0001),\n",
        "                          activation='relu', input_shape=(10000,)))\n",
        "l1_model.add(layers.Dense(16, kernel_regularizer=regularizers.l1(0.0001),\n",
        "                          activation='relu'))\n",
        "l1_model.add(layers.Dense(1, activation='sigmoid'))"
      ],
      "execution_count": 0,
      "outputs": []
    },
    {
      "metadata": {
        "id": "A-73v4zZdujv",
        "colab_type": "code",
        "colab": {}
      },
      "cell_type": "code",
      "source": [
        "l1_model.compile(optimizer='rmsprop',\n",
        "                 loss='binary_crossentropy',\n",
        "                 metrics=['acc'])"
      ],
      "execution_count": 0,
      "outputs": []
    },
    {
      "metadata": {
        "id": "ibTK8ogxd16-",
        "colab_type": "code",
        "colab": {
          "base_uri": "https://localhost:8080/",
          "height": 775
        },
        "outputId": "6eacc581-a77a-400b-ec21-0cb74c7ca733"
      },
      "cell_type": "code",
      "source": [
        "l1_model_hist = l1_model.fit(x_train, y_train,\n",
        "                             epochs=20,\n",
        "                             batch_size=512,\n",
        "                             validation_data=(x_test, y_test))"
      ],
      "execution_count": 25,
      "outputs": [
        {
          "output_type": "stream",
          "text": [
            "Train on 25000 samples, validate on 25000 samples\n",
            "Epoch 1/20\n",
            "25000/25000 [==============================] - 6s 247us/step - loss: 0.5501 - acc: 0.8254 - val_loss: 0.4251 - val_acc: 0.8734\n",
            "Epoch 2/20\n",
            "25000/25000 [==============================] - 5s 191us/step - loss: 0.3637 - acc: 0.8955 - val_loss: 0.3719 - val_acc: 0.8853\n",
            "Epoch 3/20\n",
            "25000/25000 [==============================] - 5s 189us/step - loss: 0.3269 - acc: 0.9053 - val_loss: 0.3760 - val_acc: 0.8760\n",
            "Epoch 4/20\n",
            "25000/25000 [==============================] - 5s 191us/step - loss: 0.3056 - acc: 0.9140 - val_loss: 0.3529 - val_acc: 0.8880\n",
            "Epoch 5/20\n",
            "25000/25000 [==============================] - 5s 189us/step - loss: 0.2952 - acc: 0.9174 - val_loss: 0.3576 - val_acc: 0.8860\n",
            "Epoch 6/20\n",
            "25000/25000 [==============================] - 5s 190us/step - loss: 0.2881 - acc: 0.9200 - val_loss: 0.3916 - val_acc: 0.8728\n",
            "Epoch 7/20\n",
            "25000/25000 [==============================] - 5s 188us/step - loss: 0.2791 - acc: 0.9245 - val_loss: 0.3872 - val_acc: 0.8774\n",
            "Epoch 8/20\n",
            "25000/25000 [==============================] - 5s 190us/step - loss: 0.2767 - acc: 0.9252 - val_loss: 0.3705 - val_acc: 0.8834\n",
            "Epoch 9/20\n",
            "25000/25000 [==============================] - 5s 189us/step - loss: 0.2738 - acc: 0.9266 - val_loss: 0.3743 - val_acc: 0.8836\n",
            "Epoch 10/20\n",
            "25000/25000 [==============================] - 5s 191us/step - loss: 0.2655 - acc: 0.9316 - val_loss: 0.3781 - val_acc: 0.8816\n",
            "Epoch 11/20\n",
            "25000/25000 [==============================] - 5s 190us/step - loss: 0.2628 - acc: 0.9330 - val_loss: 0.3830 - val_acc: 0.8817\n",
            "Epoch 12/20\n",
            "25000/25000 [==============================] - 5s 191us/step - loss: 0.2609 - acc: 0.9337 - val_loss: 0.4040 - val_acc: 0.8717\n",
            "Epoch 13/20\n",
            "25000/25000 [==============================] - 5s 189us/step - loss: 0.2553 - acc: 0.9351 - val_loss: 0.4158 - val_acc: 0.8704\n",
            "Epoch 14/20\n",
            "25000/25000 [==============================] - 5s 189us/step - loss: 0.2504 - acc: 0.9386 - val_loss: 0.4523 - val_acc: 0.8613\n",
            "Epoch 15/20\n",
            "25000/25000 [==============================] - 5s 185us/step - loss: 0.2488 - acc: 0.9386 - val_loss: 0.3978 - val_acc: 0.8788\n",
            "Epoch 16/20\n",
            "25000/25000 [==============================] - 5s 189us/step - loss: 0.2406 - acc: 0.9419 - val_loss: 0.4355 - val_acc: 0.8649\n",
            "Epoch 17/20\n",
            "25000/25000 [==============================] - 5s 193us/step - loss: 0.2412 - acc: 0.9432 - val_loss: 0.4211 - val_acc: 0.8729\n",
            "Epoch 18/20\n",
            "25000/25000 [==============================] - 5s 192us/step - loss: 0.2343 - acc: 0.9443 - val_loss: 0.4080 - val_acc: 0.8754\n",
            "Epoch 19/20\n",
            "25000/25000 [==============================] - 5s 190us/step - loss: 0.2283 - acc: 0.9478 - val_loss: 0.4136 - val_acc: 0.8745\n",
            "Epoch 20/20\n",
            "25000/25000 [==============================] - 5s 194us/step - loss: 0.2239 - acc: 0.9486 - val_loss: 0.4130 - val_acc: 0.8751\n"
          ],
          "name": "stdout"
        }
      ]
    },
    {
      "metadata": {
        "id": "D2WrhM5Id9Nw",
        "colab_type": "code",
        "colab": {
          "base_uri": "https://localhost:8080/",
          "height": 361
        },
        "outputId": "b1685531-474c-4914-baae-dfe205d9f2b4"
      },
      "cell_type": "code",
      "source": [
        "l1_model_val_loss = l1_model_hist.history['val_loss']\n",
        "\n",
        "plt.plot(epochs, original_val_loss, 'ro', label='Original model')\n",
        "plt.plot(epochs, l1_model_val_loss, 'bo', label='L1-regularized model')\n",
        "plt.xlabel('Epochs')\n",
        "plt.ylabel('Validation loss')\n",
        "plt.legend()\n",
        "\n",
        "plt.show()"
      ],
      "execution_count": 26,
      "outputs": [
        {
          "output_type": "display_data",
          "data": {
            "image/png": "[encoded data removed]",
            "text/plain": [
              "<Figure size 576x396 with 1 Axes>"
            ]
          },
          "metadata": {
            "tags": []
          }
        }
      ]
    },
    {
      "metadata": {
        "id": "8fAz7wBeeuxB",
        "colab_type": "code",
        "colab": {}
      },
      "cell_type": "code",
      "source": [
        "l1l2_model = models.Sequential()\n",
        "l1l2_model.add(layers.Dense(16, kernel_regularizer=regularizers.l1_l2(l1=0.0001, l2=0.0001),\n",
        "                            activation='relu', input_shape=(10000,)))\n",
        "l1l2_model.add(layers.Dense(16, kernel_regularizer=regularizers.l1_l2(l1=0.0001, l2=0.0002),\n",
        "                            activation='relu'))\n",
        "l1l2_model.add(layers.Dense(1, activation='sigmoid'))"
      ],
      "execution_count": 0,
      "outputs": []
    },
    {
      "metadata": {
        "id": "qeYpUlPpfOl8",
        "colab_type": "code",
        "colab": {}
      },
      "cell_type": "code",
      "source": [
        "l1l2_model.compile(optimizer='rmsprop',\n",
        "                   loss='binary_crossentropy',\n",
        "                   metrics=['acc'])"
      ],
      "execution_count": 0,
      "outputs": []
    },
    {
      "metadata": {
        "id": "QXtgbjA0fVOi",
        "colab_type": "code",
        "colab": {
          "base_uri": "https://localhost:8080/",
          "height": 775
        },
        "outputId": "01a27208-d24f-4af5-f59a-a69532260ec1"
      },
      "cell_type": "code",
      "source": [
        "l1l2_model_hist = l1l2_model.fit(x_train, y_train,\n",
        "                                 epochs=20,\n",
        "                                 batch_size=512,\n",
        "                                 validation_data=(x_test, y_test))"
      ],
      "execution_count": 29,
      "outputs": [
        {
          "output_type": "stream",
          "text": [
            "Train on 25000 samples, validate on 25000 samples\n",
            "Epoch 1/20\n",
            "25000/25000 [==============================] - 6s 236us/step - loss: 0.5555 - acc: 0.8154 - val_loss: 0.4348 - val_acc: 0.8659\n",
            "Epoch 2/20\n",
            "25000/25000 [==============================] - 5s 191us/step - loss: 0.3737 - acc: 0.8942 - val_loss: 0.3860 - val_acc: 0.8822\n",
            "Epoch 3/20\n",
            "25000/25000 [==============================] - 5s 189us/step - loss: 0.3369 - acc: 0.9056 - val_loss: 0.3798 - val_acc: 0.8823\n",
            "Epoch 4/20\n",
            "25000/25000 [==============================] - 5s 190us/step - loss: 0.3249 - acc: 0.9086 - val_loss: 0.3664 - val_acc: 0.8870\n",
            "Epoch 5/20\n",
            "25000/25000 [==============================] - 5s 190us/step - loss: 0.3125 - acc: 0.9141 - val_loss: 0.3900 - val_acc: 0.8762\n",
            "Epoch 6/20\n",
            "25000/25000 [==============================] - 5s 193us/step - loss: 0.3067 - acc: 0.9171 - val_loss: 0.3748 - val_acc: 0.8850\n",
            "Epoch 7/20\n",
            "25000/25000 [==============================] - 5s 192us/step - loss: 0.2989 - acc: 0.9187 - val_loss: 0.3737 - val_acc: 0.8846\n",
            "Epoch 8/20\n",
            "25000/25000 [==============================] - 5s 192us/step - loss: 0.2983 - acc: 0.9187 - val_loss: 0.3789 - val_acc: 0.8839\n",
            "Epoch 9/20\n",
            "25000/25000 [==============================] - 5s 189us/step - loss: 0.2903 - acc: 0.9246 - val_loss: 0.3906 - val_acc: 0.8804\n",
            "Epoch 10/20\n",
            "25000/25000 [==============================] - 5s 193us/step - loss: 0.2846 - acc: 0.9258 - val_loss: 0.3826 - val_acc: 0.8835\n",
            "Epoch 11/20\n",
            "25000/25000 [==============================] - 5s 191us/step - loss: 0.2823 - acc: 0.9259 - val_loss: 0.3847 - val_acc: 0.8818\n",
            "Epoch 12/20\n",
            "25000/25000 [==============================] - 5s 196us/step - loss: 0.2782 - acc: 0.9293 - val_loss: 0.3877 - val_acc: 0.8808\n",
            "Epoch 13/20\n",
            "25000/25000 [==============================] - 5s 206us/step - loss: 0.2711 - acc: 0.9317 - val_loss: 0.3858 - val_acc: 0.8819\n",
            "Epoch 14/20\n",
            "25000/25000 [==============================] - 5s 197us/step - loss: 0.2660 - acc: 0.9344 - val_loss: 0.3881 - val_acc: 0.8811\n",
            "Epoch 15/20\n",
            "25000/25000 [==============================] - 5s 191us/step - loss: 0.2599 - acc: 0.9368 - val_loss: 0.4082 - val_acc: 0.8736\n",
            "Epoch 16/20\n",
            "25000/25000 [==============================] - 5s 191us/step - loss: 0.2534 - acc: 0.9385 - val_loss: 0.4084 - val_acc: 0.8753\n",
            "Epoch 17/20\n",
            "25000/25000 [==============================] - 5s 191us/step - loss: 0.2532 - acc: 0.9381 - val_loss: 0.4013 - val_acc: 0.8764\n",
            "Epoch 18/20\n",
            "25000/25000 [==============================] - 5s 193us/step - loss: 0.2441 - acc: 0.9423 - val_loss: 0.4604 - val_acc: 0.8572\n",
            "Epoch 19/20\n",
            "25000/25000 [==============================] - 5s 192us/step - loss: 0.2434 - acc: 0.9405 - val_loss: 0.4200 - val_acc: 0.8752\n",
            "Epoch 20/20\n",
            "25000/25000 [==============================] - 5s 190us/step - loss: 0.2400 - acc: 0.9435 - val_loss: 0.4155 - val_acc: 0.8750\n"
          ],
          "name": "stdout"
        }
      ]
    },
    {
      "metadata": {
        "id": "ZVvQvu_zfgox",
        "colab_type": "code",
        "colab": {
          "base_uri": "https://localhost:8080/",
          "height": 361
        },
        "outputId": "ad052647-0aad-42ba-b3f0-34d21f08006b"
      },
      "cell_type": "code",
      "source": [
        "l1l2_model_val_loss = l1l2_model_hist.history['val_loss']\n",
        "\n",
        "plt.plot(epochs, original_val_loss, 'ro', label='Original model')\n",
        "plt.plot(epochs, l1l2_model_val_loss, 'bo', label='L1,L2-regularized model')\n",
        "plt.xlabel('Epochs')\n",
        "plt.ylabel('Validation loss')\n",
        "plt.legend()\n",
        "\n",
        "plt.show()"
      ],
      "execution_count": 31,
      "outputs": [
        {
          "output_type": "display_data",
          "data": {
            "image/png": "[encoded data removed]",
            "text/plain": [
              "<Figure size 576x396 with 1 Axes>"
            ]
          },
          "metadata": {
            "tags": []
          }
        }
      ]
    },
    {
      "metadata": {
        "id": "k3sqz3J6gOJP",
        "colab_type": "code",
        "colab": {}
      },
      "cell_type": "code",
      "source": [
        "dpt_model = models.Sequential()\n",
        "dpt_model.add(layers.Dense(16, activation='relu', input_shape=(10000,)))\n",
        "dpt_model.add(layers.Dropout(0.5))\n",
        "dpt_model.add(layers.Dense(16, activation='relu'))\n",
        "dpt_model.add(layers.Dropout(0.5))\n",
        "dpt_model.add(layers.Dense(1, activation='sigmoid'))\n",
        "\n",
        "dpt_model.compile(optimizer='rmsprop',\n",
        "                  loss='binary_crossentropy',\n",
        "                  metrics=['acc'])"
      ],
      "execution_count": 0,
      "outputs": []
    },
    {
      "metadata": {
        "id": "fHS0Bi4fgyVO",
        "colab_type": "code",
        "colab": {
          "base_uri": "https://localhost:8080/",
          "height": 775
        },
        "outputId": "67bd742e-e390-4285-b6b8-2db15f0ddb8a"
      },
      "cell_type": "code",
      "source": [
        "dpt_model_hist = dpt_model.fit(x_train, y_train,\n",
        "                               epochs=20,\n",
        "                               batch_size=512,\n",
        "                               validation_data=(x_test, y_test))"
      ],
      "execution_count": 34,
      "outputs": [
        {
          "output_type": "stream",
          "text": [
            "Train on 25000 samples, validate on 25000 samples\n",
            "Epoch 1/20\n",
            "25000/25000 [==============================] - 6s 227us/step - loss: 0.5785 - acc: 0.6966 - val_loss: 0.4320 - val_acc: 0.8667\n",
            "Epoch 2/20\n",
            "25000/25000 [==============================] - 5s 190us/step - loss: 0.4244 - acc: 0.8244 - val_loss: 0.3245 - val_acc: 0.8833\n",
            "Epoch 3/20\n",
            "25000/25000 [==============================] - 5s 190us/step - loss: 0.3399 - acc: 0.8732 - val_loss: 0.2941 - val_acc: 0.8836\n",
            "Epoch 4/20\n",
            "25000/25000 [==============================] - 5s 191us/step - loss: 0.2856 - acc: 0.8998 - val_loss: 0.2774 - val_acc: 0.8869\n",
            "Epoch 5/20\n",
            "25000/25000 [==============================] - 5s 188us/step - loss: 0.2457 - acc: 0.9142 - val_loss: 0.2803 - val_acc: 0.8882\n",
            "Epoch 6/20\n",
            "25000/25000 [==============================] - 5s 188us/step - loss: 0.2172 - acc: 0.9253 - val_loss: 0.2922 - val_acc: 0.8864\n",
            "Epoch 7/20\n",
            "25000/25000 [==============================] - 5s 185us/step - loss: 0.1957 - acc: 0.9327 - val_loss: 0.3122 - val_acc: 0.8844\n",
            "Epoch 8/20\n",
            "25000/25000 [==============================] - 5s 186us/step - loss: 0.1784 - acc: 0.9386 - val_loss: 0.3267 - val_acc: 0.8836\n",
            "Epoch 9/20\n",
            "25000/25000 [==============================] - 5s 197us/step - loss: 0.1644 - acc: 0.9417 - val_loss: 0.3513 - val_acc: 0.8818\n",
            "Epoch 10/20\n",
            "25000/25000 [==============================] - 5s 200us/step - loss: 0.1543 - acc: 0.9463 - val_loss: 0.3729 - val_acc: 0.8814\n",
            "Epoch 11/20\n",
            "25000/25000 [==============================] - 5s 189us/step - loss: 0.1435 - acc: 0.9507 - val_loss: 0.4032 - val_acc: 0.8776\n",
            "Epoch 12/20\n",
            "25000/25000 [==============================] - 5s 188us/step - loss: 0.1305 - acc: 0.9534 - val_loss: 0.4109 - val_acc: 0.8787\n",
            "Epoch 13/20\n",
            "25000/25000 [==============================] - 5s 187us/step - loss: 0.1276 - acc: 0.9538 - val_loss: 0.4499 - val_acc: 0.8782\n",
            "Epoch 14/20\n",
            "25000/25000 [==============================] - 5s 187us/step - loss: 0.1235 - acc: 0.9541 - val_loss: 0.4753 - val_acc: 0.8723\n",
            "Epoch 15/20\n",
            "25000/25000 [==============================] - 5s 187us/step - loss: 0.1222 - acc: 0.9567 - val_loss: 0.4816 - val_acc: 0.8771\n",
            "Epoch 16/20\n",
            "25000/25000 [==============================] - 5s 188us/step - loss: 0.1094 - acc: 0.9590 - val_loss: 0.5031 - val_acc: 0.8769\n",
            "Epoch 17/20\n",
            "25000/25000 [==============================] - 5s 185us/step - loss: 0.1103 - acc: 0.9598 - val_loss: 0.5335 - val_acc: 0.8750\n",
            "Epoch 18/20\n",
            "25000/25000 [==============================] - 5s 187us/step - loss: 0.1109 - acc: 0.9588 - val_loss: 0.5347 - val_acc: 0.8724\n",
            "Epoch 19/20\n",
            "25000/25000 [==============================] - 5s 185us/step - loss: 0.1066 - acc: 0.9594 - val_loss: 0.5789 - val_acc: 0.8733\n",
            "Epoch 20/20\n",
            "25000/25000 [==============================] - 5s 188us/step - loss: 0.1097 - acc: 0.9602 - val_loss: 0.5702 - val_acc: 0.8743\n"
          ],
          "name": "stdout"
        }
      ]
    },
    {
      "metadata": {
        "id": "Vl07xsDjg9VC",
        "colab_type": "code",
        "colab": {
          "base_uri": "https://localhost:8080/",
          "height": 361
        },
        "outputId": "98fdcea3-e55a-4707-b2a0-e0909cc00976"
      },
      "cell_type": "code",
      "source": [
        "dpt_model_val_loss = dpt_model_hist.history['val_loss']\n",
        "\n",
        "plt.plot(epochs, original_val_loss, 'ro', label='Original model')\n",
        "plt.plot(epochs, dpt_model_val_loss, 'bo', label='Dropout-regularized model')\n",
        "plt.xlabel('Epochs')\n",
        "plt.ylabel('Validation loss')\n",
        "plt.legend()\n",
        "\n",
        "plt.show()"
      ],
      "execution_count": 35,
      "outputs": [
        {
          "output_type": "display_data",
          "data": {
            "image/png": "[encoded data removed]",
            "text/plain": [
              "<Figure size 576x396 with 1 Axes>"
            ]
          },
          "metadata": {
            "tags": []
          }
        }
      ]
    },
    {
      "metadata": {
        "id": "NGHLic2XhvPJ",
        "colab_type": "code",
        "colab": {}
      },
      "cell_type": "code",
      "source": [
        ""
      ],
      "execution_count": 0,
      "outputs": []
    }
  ]
}