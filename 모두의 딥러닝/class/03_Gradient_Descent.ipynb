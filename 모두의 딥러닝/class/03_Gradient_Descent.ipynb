{
 "cells": [
  {
   "cell_type": "code",
   "execution_count": 2,
   "metadata": {},
   "outputs": [
    {
     "name": "stdout",
     "output_type": "stream",
     "text": [
      "Epoch: 0, RMSE = 30.2139, 기울기 a = 7.5235, y 절편 b = 80.5984\n",
      "Epoch: 100, RMSE = 2.8860, 기울기 a = 2.2299, y 절편 b = 79.4181\n",
      "Epoch: 200, RMSE = 2.8826, 기울기 a = 2.2601, y 절편 b = 79.2379\n",
      "Epoch: 300, RMSE = 2.8815, 기울기 a = 2.2773, y 절편 b = 79.1353\n",
      "Epoch: 400, RMSE = 2.8811, 기울기 a = 2.2871, y 절편 b = 79.0770\n",
      "Epoch: 500, RMSE = 2.8810, 기울기 a = 2.2927, y 절편 b = 79.0438\n",
      "Epoch: 600, RMSE = 2.8810, 기울기 a = 2.2958, y 절편 b = 79.0249\n",
      "Epoch: 700, RMSE = 2.8810, 기울기 a = 2.2976, y 절편 b = 79.0142\n",
      "Epoch: 800, RMSE = 2.8810, 기울기 a = 2.2987, y 절편 b = 79.0081\n",
      "Epoch: 900, RMSE = 2.8810, 기울기 a = 2.2992, y 절편 b = 79.0046\n",
      "Epoch: 1000, RMSE = 2.8810, 기울기 a = 2.2996, y 절편 b = 79.0026\n",
      "Epoch: 1100, RMSE = 2.8810, 기울기 a = 2.2998, y 절편 b = 79.0015\n",
      "Epoch: 1200, RMSE = 2.8810, 기울기 a = 2.2999, y 절편 b = 79.0008\n",
      "Epoch: 1300, RMSE = 2.8810, 기울기 a = 2.2999, y 절편 b = 79.0005\n",
      "Epoch: 1400, RMSE = 2.8810, 기울기 a = 2.3000, y 절편 b = 79.0003\n",
      "Epoch: 1500, RMSE = 2.8810, 기울기 a = 2.3000, y 절편 b = 79.0002\n",
      "Epoch: 1600, RMSE = 2.8810, 기울기 a = 2.3000, y 절편 b = 79.0001\n",
      "Epoch: 1700, RMSE = 2.8810, 기울기 a = 2.3000, y 절편 b = 79.0001\n",
      "Epoch: 1800, RMSE = 2.8810, 기울기 a = 2.3000, y 절편 b = 79.0000\n",
      "Epoch: 1900, RMSE = 2.8810, 기울기 a = 2.3000, y 절편 b = 79.0000\n",
      "Epoch: 2000, RMSE = 2.8810, 기울기 a = 2.3000, y 절편 b = 79.0000\n"
     ]
    }
   ],
   "source": [
    "import tensorflow as tf\n",
    "\n",
    "data = [[2, 81], [4, 93], [6, 91], [8, 97]]\n",
    "x_data = [x_row[0] for x_row in data]\n",
    "y_data = [y_row[1] for y_row in data]\n",
    "\n",
    "a = tf.Variable(tf.random_uniform([1], 0, 10, dtype = tf.float64, seed = 0))\n",
    "b = tf.Variable(tf.random_uniform([1], 0, 100, dtype = tf.float64, seed = 0))\n",
    "\n",
    "y = a*x_data + b\n",
    "\n",
    "rmse = tf.sqrt(tf.reduce_mean(tf.square(y - y_data)))\n",
    "\n",
    "learning_rate = 0.1\n",
    "\n",
    "gradient_decent = tf.train.GradientDescentOptimizer(learning_rate).minimize(rmse)\n",
    "\n",
    "with tf.Session() as sess:\n",
    "    sess.run(tf.global_variables_initializer())\n",
    "    for step in range(2001):\n",
    "        sess.run(gradient_decent)\n",
    "        if step % 100 == 0:\n",
    "            print(\"Epoch: %.f, RMSE = %.04f, 기울기 a = %.4f, y 절편 b = %.4f\" % (step, sess.run(rmse), sess.run(a), sess.run(b)))"
   ]
  },
  {
   "cell_type": "code",
   "execution_count": null,
   "metadata": {},
   "outputs": [],
   "source": []
  }
 ],
 "metadata": {
  "kernelspec": {
   "display_name": "Python 3",
   "language": "python",
   "name": "python3"
  },
  "language_info": {
   "codemirror_mode": {
    "name": "ipython",
    "version": 3
   },
   "file_extension": ".py",
   "mimetype": "text/x-python",
   "name": "python",
   "nbconvert_exporter": "python",
   "pygments_lexer": "ipython3",
   "version": "3.7.1"
  }
 },
 "nbformat": 4,
 "nbformat_minor": 2
}
